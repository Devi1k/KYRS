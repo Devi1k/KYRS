{
 "cells": [
  {
   "cell_type": "code",
   "execution_count": null,
   "metadata": {
    "collapsed": true
   },
   "outputs": [],
   "source": []
  },
  {
   "cell_type": "code",
   "execution_count": 17,
   "outputs": [
    {
     "name": "stderr",
     "output_type": "stream",
     "text": [
      "/Users/starry/conda/envs/local/lib/python3.8/site-packages/IPython/core/interactiveshell.py:3444: FutureWarning: The error_bad_lines argument has been deprecated and will be removed in a future version.\n",
      "\n",
      "\n",
      "  exec(code_obj, self.user_global_ns, self.user_ns)\n"
     ]
    }
   ],
   "source": [
    "import os\n",
    "import numpy as np\n",
    "import pandas as pd\n",
    "\n",
    "user_act = pd.read_csv(\"../data/user_action.csv\", sep=',', error_bad_lines=False, encoding='utf-8', header=0)\n",
    "df1 = user_act.drop(labels=['id',\n",
    "                            'device_id', 'os', 'os_version', 'version', 'system', 'platform', 'pg_short_url',\n",
    "                            'log_time', 'cal_dt', 'duration', 'log_id'], axis=1)\n",
    "df1.loc[((df1.event_id == 254) | (df1.event_id == 248)), 'follow'] = 'thumb'\n",
    "df1.loc[((df1.event_id == 257) | (df1.event_id == 249)), 'follow'] = 'comment'\n",
    "df1.loc[((df1.event_id == 258) | (df1.event_id == 256)), 'follow'] = 'forward'\n",
    "df1.loc[((df1.event_id == 262) | (df1.event_id == 263)), 'follow'] = 'detail'\n",
    "df1.loc[((df1.event_id == 264) | (df1.event_id == 310)), 'follow'] = 'detail'\n",
    "df1['follow'] = df1['follow'].fillna(0)\n",
    "# user_new['follow'] = user_new['follow'].fillna(0)\n",
    "df1['follow'] = df1['follow'].replace(0, 'neg')\n",
    "df1['follow'].value_counts()\n",
    "import json\n",
    "\n",
    "# df1['content_id'] = df1.loc[(df1.event_id != 221), 'event_data']\n",
    "df1['event_data'] = df1['event_data'].apply(json.loads)\n",
    "\n",
    "\n",
    "def process(event_data):\n",
    "    if not isinstance(event_data, dict):\n",
    "        # print('list')\n",
    "        return 0\n",
    "    if 'content_id' in event_data.keys():\n",
    "        return event_data['content_id']\n",
    "\n",
    "\n",
    "df1['event_data'] = df1['event_data'].apply(process)\n",
    "df1['event_data'] = pd.to_numeric(df1['event_data']).fillna('0').astype('int64')\n",
    "df1['event_data'].value_counts()\n",
    "df1['content_id'] = df1['event_data']\n",
    "\n",
    "df1 = df1.sort_values(by=['user_id', 'created_at'], ascending=True)"
   ],
   "metadata": {
    "collapsed": false,
    "pycharm": {
     "name": "#%%\n"
    }
   }
  },
  {
   "cell_type": "code",
   "execution_count": 9,
   "outputs": [],
   "source": [
    "\n",
    "# df1 = df1.head(50000)"
   ],
   "metadata": {
    "collapsed": false,
    "pycharm": {
     "name": "#%%\n"
    }
   }
  },
  {
   "cell_type": "code",
   "execution_count": 18,
   "outputs": [
    {
     "data": {
      "text/plain": "          user_id  event_id  event_data     created_at follow  content_id\n11077732        0        35      711680  1635955758202    neg      711680\n11088991        0        35      694645  1635958983831    neg      694645\n11088992        0        35      711680  1635958983842    neg      711680\n11090685        0        35      711948  1635959535768    neg      711948\n11090687        0        35      712029  1635959535774    neg      712029",
      "text/html": "<div>\n<style scoped>\n    .dataframe tbody tr th:only-of-type {\n        vertical-align: middle;\n    }\n\n    .dataframe tbody tr th {\n        vertical-align: top;\n    }\n\n    .dataframe thead th {\n        text-align: right;\n    }\n</style>\n<table border=\"1\" class=\"dataframe\">\n  <thead>\n    <tr style=\"text-align: right;\">\n      <th></th>\n      <th>user_id</th>\n      <th>event_id</th>\n      <th>event_data</th>\n      <th>created_at</th>\n      <th>follow</th>\n      <th>content_id</th>\n    </tr>\n  </thead>\n  <tbody>\n    <tr>\n      <th>11077732</th>\n      <td>0</td>\n      <td>35</td>\n      <td>711680</td>\n      <td>1635955758202</td>\n      <td>neg</td>\n      <td>711680</td>\n    </tr>\n    <tr>\n      <th>11088991</th>\n      <td>0</td>\n      <td>35</td>\n      <td>694645</td>\n      <td>1635958983831</td>\n      <td>neg</td>\n      <td>694645</td>\n    </tr>\n    <tr>\n      <th>11088992</th>\n      <td>0</td>\n      <td>35</td>\n      <td>711680</td>\n      <td>1635958983842</td>\n      <td>neg</td>\n      <td>711680</td>\n    </tr>\n    <tr>\n      <th>11090685</th>\n      <td>0</td>\n      <td>35</td>\n      <td>711948</td>\n      <td>1635959535768</td>\n      <td>neg</td>\n      <td>711948</td>\n    </tr>\n    <tr>\n      <th>11090687</th>\n      <td>0</td>\n      <td>35</td>\n      <td>712029</td>\n      <td>1635959535774</td>\n      <td>neg</td>\n      <td>712029</td>\n    </tr>\n  </tbody>\n</table>\n</div>"
     },
     "execution_count": 18,
     "metadata": {},
     "output_type": "execute_result"
    }
   ],
   "source": [
    "df1.head()"
   ],
   "metadata": {
    "collapsed": false,
    "pycharm": {
     "name": "#%%\n"
    }
   }
  },
  {
   "cell_type": "code",
   "execution_count": 60,
   "outputs": [
    {
     "data": {
      "text/plain": "                  user_id  event_id  event_data     created_at   follow  \\\n7435274  1540291594230058       262      694645  1637206898714   detail   \n7435380  1540291594230058       254         997  1637206931771    thumb   \n7435384  1540291594230058       257      732208  1637206932867  comment   \n7435385  1540291594230058       262      732208  1637206932874   detail   \n7435417  1540291594230058       254           0  1637206955479    thumb   \n7435452  1540291594230058       262      731479  1637206961222   detail   \n7435497  1540291594230058       262      728865  1637206980803   detail   \n7435787  1540291594230058       254           0  1637207064567    thumb   \n7436050  1540291594230058       254           0  1637207115181    thumb   \n7436627  1540291594230058       262      732005  1637207246186   detail   \n7436681  1540291594230058       254           0  1637207267334    thumb   \n7436685  1540291594230058       262      734366  1637207268565   detail   \n\n         content_id  \n7435274      694645  \n7435380         997  \n7435384      732208  \n7435385      732208  \n7435417           0  \n7435452      731479  \n7435497      728865  \n7435787           0  \n7436050           0  \n7436627      732005  \n7436681           0  \n7436685      734366  ",
      "text/html": "<div>\n<style scoped>\n    .dataframe tbody tr th:only-of-type {\n        vertical-align: middle;\n    }\n\n    .dataframe tbody tr th {\n        vertical-align: top;\n    }\n\n    .dataframe thead th {\n        text-align: right;\n    }\n</style>\n<table border=\"1\" class=\"dataframe\">\n  <thead>\n    <tr style=\"text-align: right;\">\n      <th></th>\n      <th>user_id</th>\n      <th>event_id</th>\n      <th>event_data</th>\n      <th>created_at</th>\n      <th>follow</th>\n      <th>content_id</th>\n    </tr>\n  </thead>\n  <tbody>\n    <tr>\n      <th>7435274</th>\n      <td>1540291594230058</td>\n      <td>262</td>\n      <td>694645</td>\n      <td>1637206898714</td>\n      <td>detail</td>\n      <td>694645</td>\n    </tr>\n    <tr>\n      <th>7435380</th>\n      <td>1540291594230058</td>\n      <td>254</td>\n      <td>997</td>\n      <td>1637206931771</td>\n      <td>thumb</td>\n      <td>997</td>\n    </tr>\n    <tr>\n      <th>7435384</th>\n      <td>1540291594230058</td>\n      <td>257</td>\n      <td>732208</td>\n      <td>1637206932867</td>\n      <td>comment</td>\n      <td>732208</td>\n    </tr>\n    <tr>\n      <th>7435385</th>\n      <td>1540291594230058</td>\n      <td>262</td>\n      <td>732208</td>\n      <td>1637206932874</td>\n      <td>detail</td>\n      <td>732208</td>\n    </tr>\n    <tr>\n      <th>7435417</th>\n      <td>1540291594230058</td>\n      <td>254</td>\n      <td>0</td>\n      <td>1637206955479</td>\n      <td>thumb</td>\n      <td>0</td>\n    </tr>\n    <tr>\n      <th>7435452</th>\n      <td>1540291594230058</td>\n      <td>262</td>\n      <td>731479</td>\n      <td>1637206961222</td>\n      <td>detail</td>\n      <td>731479</td>\n    </tr>\n    <tr>\n      <th>7435497</th>\n      <td>1540291594230058</td>\n      <td>262</td>\n      <td>728865</td>\n      <td>1637206980803</td>\n      <td>detail</td>\n      <td>728865</td>\n    </tr>\n    <tr>\n      <th>7435787</th>\n      <td>1540291594230058</td>\n      <td>254</td>\n      <td>0</td>\n      <td>1637207064567</td>\n      <td>thumb</td>\n      <td>0</td>\n    </tr>\n    <tr>\n      <th>7436050</th>\n      <td>1540291594230058</td>\n      <td>254</td>\n      <td>0</td>\n      <td>1637207115181</td>\n      <td>thumb</td>\n      <td>0</td>\n    </tr>\n    <tr>\n      <th>7436627</th>\n      <td>1540291594230058</td>\n      <td>262</td>\n      <td>732005</td>\n      <td>1637207246186</td>\n      <td>detail</td>\n      <td>732005</td>\n    </tr>\n    <tr>\n      <th>7436681</th>\n      <td>1540291594230058</td>\n      <td>254</td>\n      <td>0</td>\n      <td>1637207267334</td>\n      <td>thumb</td>\n      <td>0</td>\n    </tr>\n    <tr>\n      <th>7436685</th>\n      <td>1540291594230058</td>\n      <td>262</td>\n      <td>734366</td>\n      <td>1637207268565</td>\n      <td>detail</td>\n      <td>734366</td>\n    </tr>\n  </tbody>\n</table>\n</div>"
     },
     "execution_count": 60,
     "metadata": {},
     "output_type": "execute_result"
    }
   ],
   "source": [
    "df2 = df1[df1['follow'] != 'neg']\n",
    "df2[df2['user_id']==1540291594230058]"
   ],
   "metadata": {
    "collapsed": false,
    "pycharm": {
     "name": "#%%\n"
    }
   }
  },
  {
   "cell_type": "code",
   "execution_count": 66,
   "outputs": [],
   "source": [
    "df_t = df2[df2['user_id']!=0].head(10000)"
   ],
   "metadata": {
    "collapsed": false,
    "pycharm": {
     "name": "#%%\n"
    }
   }
  },
  {
   "cell_type": "code",
   "execution_count": 67,
   "outputs": [],
   "source": [
    "\n",
    "from functools import reduce\n",
    "\n",
    "df_t['content_list'] = pd.NA\n"
   ],
   "metadata": {
    "collapsed": false,
    "pycharm": {
     "name": "#%%\n"
    }
   }
  },
  {
   "cell_type": "code",
   "execution_count": 68,
   "outputs": [
    {
     "name": "stdout",
     "output_type": "stream",
     "text": [
      "CPU times: user 9.17 s, sys: 40.2 ms, total: 9.21 s\n",
      "Wall time: 9.26 s\n"
     ]
    }
   ],
   "source": [
    "\n",
    "def count_inter_list(user_id):\n",
    "    inter = list(df_t.loc[(df_t.user_id == user_id), 'content_id'])\n",
    "    func = lambda x, y: x if y in x else x + [y]\n",
    "    list1 = reduce(func, [[], ] + inter)\n",
    "    content_list = map(lambda x: str(x), list1)\n",
    "    str1 = \",\".join(list(content_list))\n",
    "    return str1\n",
    "\n",
    "\n",
    "\n",
    "%time df_t['content_list'] = df_t.apply(lambda row: count_inter_list(row['user_id']), axis=1)\n",
    "# df4['inter_list'] = count_inter_list(df4['user_id'].values, df4['content_id'].values)"
   ],
   "metadata": {
    "collapsed": false,
    "pycharm": {
     "name": "#%%\n"
    }
   }
  },
  {
   "cell_type": "code",
   "execution_count": 58,
   "outputs": [
    {
     "data": {
      "text/plain": "                   user_id  event_id  event_data     created_at  follow  \\\n5003010   1540291169530038       263      739637  1637978771269  detail   \n10176143  1540291528300057       262      716856  1636301049165  detail   \n10269519  1540291528300057       262      718538  1636354084428  detail   \n10269639  1540291528300057       262      716706  1636354144578  detail   \n8941458   1540291528300057       262      726790  1636788738222  detail   \n...                    ...       ...         ...            ...     ...   \n2842009   1542120650393517       262      758406  1638698311025  detail   \n2843388   1542120650393517       262      755689  1638698805325  detail   \n3012279   1542120650393517       262      763223  1638717116510  detail   \n3015782   1542120650393517       263      761527  1638717310051  detail   \n3016376   1542120650393517       263      761888  1638717340869  detail   \n\n          content_id                                       content_list  \n5003010       739637                                             739637  \n10176143      716856  716856,718538,716706,726790,732897,733148,7351...  \n10269519      718538  716856,718538,716706,726790,732897,733148,7351...  \n10269639      716706  716856,718538,716706,726790,732897,733148,7351...  \n8941458       726790  716856,718538,716706,726790,732897,733148,7351...  \n...              ...                                                ...  \n2842009       758406  749645,753973,755646,486917,420594,757459,7557...  \n2843388       755689  749645,753973,755646,486917,420594,757459,7557...  \n3012279       763223  749645,753973,755646,486917,420594,757459,7557...  \n3015782       761527  749645,753973,755646,486917,420594,757459,7557...  \n3016376       761888  749645,753973,755646,486917,420594,757459,7557...  \n\n[1000 rows x 7 columns]",
      "text/html": "<div>\n<style scoped>\n    .dataframe tbody tr th:only-of-type {\n        vertical-align: middle;\n    }\n\n    .dataframe tbody tr th {\n        vertical-align: top;\n    }\n\n    .dataframe thead th {\n        text-align: right;\n    }\n</style>\n<table border=\"1\" class=\"dataframe\">\n  <thead>\n    <tr style=\"text-align: right;\">\n      <th></th>\n      <th>user_id</th>\n      <th>event_id</th>\n      <th>event_data</th>\n      <th>created_at</th>\n      <th>follow</th>\n      <th>content_id</th>\n      <th>content_list</th>\n    </tr>\n  </thead>\n  <tbody>\n    <tr>\n      <th>5003010</th>\n      <td>1540291169530038</td>\n      <td>263</td>\n      <td>739637</td>\n      <td>1637978771269</td>\n      <td>detail</td>\n      <td>739637</td>\n      <td>739637</td>\n    </tr>\n    <tr>\n      <th>10176143</th>\n      <td>1540291528300057</td>\n      <td>262</td>\n      <td>716856</td>\n      <td>1636301049165</td>\n      <td>detail</td>\n      <td>716856</td>\n      <td>716856,718538,716706,726790,732897,733148,7351...</td>\n    </tr>\n    <tr>\n      <th>10269519</th>\n      <td>1540291528300057</td>\n      <td>262</td>\n      <td>718538</td>\n      <td>1636354084428</td>\n      <td>detail</td>\n      <td>718538</td>\n      <td>716856,718538,716706,726790,732897,733148,7351...</td>\n    </tr>\n    <tr>\n      <th>10269639</th>\n      <td>1540291528300057</td>\n      <td>262</td>\n      <td>716706</td>\n      <td>1636354144578</td>\n      <td>detail</td>\n      <td>716706</td>\n      <td>716856,718538,716706,726790,732897,733148,7351...</td>\n    </tr>\n    <tr>\n      <th>8941458</th>\n      <td>1540291528300057</td>\n      <td>262</td>\n      <td>726790</td>\n      <td>1636788738222</td>\n      <td>detail</td>\n      <td>726790</td>\n      <td>716856,718538,716706,726790,732897,733148,7351...</td>\n    </tr>\n    <tr>\n      <th>...</th>\n      <td>...</td>\n      <td>...</td>\n      <td>...</td>\n      <td>...</td>\n      <td>...</td>\n      <td>...</td>\n      <td>...</td>\n    </tr>\n    <tr>\n      <th>2842009</th>\n      <td>1542120650393517</td>\n      <td>262</td>\n      <td>758406</td>\n      <td>1638698311025</td>\n      <td>detail</td>\n      <td>758406</td>\n      <td>749645,753973,755646,486917,420594,757459,7557...</td>\n    </tr>\n    <tr>\n      <th>2843388</th>\n      <td>1542120650393517</td>\n      <td>262</td>\n      <td>755689</td>\n      <td>1638698805325</td>\n      <td>detail</td>\n      <td>755689</td>\n      <td>749645,753973,755646,486917,420594,757459,7557...</td>\n    </tr>\n    <tr>\n      <th>3012279</th>\n      <td>1542120650393517</td>\n      <td>262</td>\n      <td>763223</td>\n      <td>1638717116510</td>\n      <td>detail</td>\n      <td>763223</td>\n      <td>749645,753973,755646,486917,420594,757459,7557...</td>\n    </tr>\n    <tr>\n      <th>3015782</th>\n      <td>1542120650393517</td>\n      <td>263</td>\n      <td>761527</td>\n      <td>1638717310051</td>\n      <td>detail</td>\n      <td>761527</td>\n      <td>749645,753973,755646,486917,420594,757459,7557...</td>\n    </tr>\n    <tr>\n      <th>3016376</th>\n      <td>1542120650393517</td>\n      <td>263</td>\n      <td>761888</td>\n      <td>1638717340869</td>\n      <td>detail</td>\n      <td>761888</td>\n      <td>749645,753973,755646,486917,420594,757459,7557...</td>\n    </tr>\n  </tbody>\n</table>\n<p>1000 rows × 7 columns</p>\n</div>"
     },
     "execution_count": 58,
     "metadata": {},
     "output_type": "execute_result"
    }
   ],
   "source": [
    "df_t\n"
   ],
   "metadata": {
    "collapsed": false,
    "pycharm": {
     "name": "#%%\n"
    }
   }
  },
  {
   "cell_type": "code",
   "execution_count": 65,
   "outputs": [
    {
     "data": {
      "text/plain": "                   user_id  event_id  event_data     created_at  follow  \\\n5003010   1540291169530038       263      739637  1637978771269  detail   \n10176143  1540291528300057       262      716856  1636301049165  detail   \n10269519  1540291528300057       262      718538  1636354084428  detail   \n10269639  1540291528300057       262      716706  1636354144578  detail   \n8941458   1540291528300057       262      726790  1636788738222  detail   \n...                    ...       ...         ...            ...     ...   \n2842009   1542120650393517       262      758406  1638698311025  detail   \n2843388   1542120650393517       262      755689  1638698805325  detail   \n3012279   1542120650393517       262      763223  1638717116510  detail   \n3015782   1542120650393517       263      761527  1638717310051  detail   \n3016376   1542120650393517       263      761888  1638717340869  detail   \n\n          content_id    rep                                       content_list  \n5003010       739637  False                                             739637  \n10176143      716856   True  716856,718538,716706,726790,732897,733148,7351...  \n10269519      718538   True  716856,718538,716706,726790,732897,733148,7351...  \n10269639      716706   True  716856,718538,716706,726790,732897,733148,7351...  \n8941458       726790   True  716856,718538,716706,726790,732897,733148,7351...  \n...              ...    ...                                                ...  \n2842009       758406   True  749645,753973,755646,486917,420594,757459,7557...  \n2843388       755689   True  749645,753973,755646,486917,420594,757459,7557...  \n3012279       763223   True  749645,753973,755646,486917,420594,757459,7557...  \n3015782       761527   True  749645,753973,755646,486917,420594,757459,7557...  \n3016376       761888   True  749645,753973,755646,486917,420594,757459,7557...  \n\n[1000 rows x 8 columns]",
      "text/html": "<div>\n<style scoped>\n    .dataframe tbody tr th:only-of-type {\n        vertical-align: middle;\n    }\n\n    .dataframe tbody tr th {\n        vertical-align: top;\n    }\n\n    .dataframe thead th {\n        text-align: right;\n    }\n</style>\n<table border=\"1\" class=\"dataframe\">\n  <thead>\n    <tr style=\"text-align: right;\">\n      <th></th>\n      <th>user_id</th>\n      <th>event_id</th>\n      <th>event_data</th>\n      <th>created_at</th>\n      <th>follow</th>\n      <th>content_id</th>\n      <th>rep</th>\n      <th>content_list</th>\n    </tr>\n  </thead>\n  <tbody>\n    <tr>\n      <th>5003010</th>\n      <td>1540291169530038</td>\n      <td>263</td>\n      <td>739637</td>\n      <td>1637978771269</td>\n      <td>detail</td>\n      <td>739637</td>\n      <td>False</td>\n      <td>739637</td>\n    </tr>\n    <tr>\n      <th>10176143</th>\n      <td>1540291528300057</td>\n      <td>262</td>\n      <td>716856</td>\n      <td>1636301049165</td>\n      <td>detail</td>\n      <td>716856</td>\n      <td>True</td>\n      <td>716856,718538,716706,726790,732897,733148,7351...</td>\n    </tr>\n    <tr>\n      <th>10269519</th>\n      <td>1540291528300057</td>\n      <td>262</td>\n      <td>718538</td>\n      <td>1636354084428</td>\n      <td>detail</td>\n      <td>718538</td>\n      <td>True</td>\n      <td>716856,718538,716706,726790,732897,733148,7351...</td>\n    </tr>\n    <tr>\n      <th>10269639</th>\n      <td>1540291528300057</td>\n      <td>262</td>\n      <td>716706</td>\n      <td>1636354144578</td>\n      <td>detail</td>\n      <td>716706</td>\n      <td>True</td>\n      <td>716856,718538,716706,726790,732897,733148,7351...</td>\n    </tr>\n    <tr>\n      <th>8941458</th>\n      <td>1540291528300057</td>\n      <td>262</td>\n      <td>726790</td>\n      <td>1636788738222</td>\n      <td>detail</td>\n      <td>726790</td>\n      <td>True</td>\n      <td>716856,718538,716706,726790,732897,733148,7351...</td>\n    </tr>\n    <tr>\n      <th>...</th>\n      <td>...</td>\n      <td>...</td>\n      <td>...</td>\n      <td>...</td>\n      <td>...</td>\n      <td>...</td>\n      <td>...</td>\n      <td>...</td>\n    </tr>\n    <tr>\n      <th>2842009</th>\n      <td>1542120650393517</td>\n      <td>262</td>\n      <td>758406</td>\n      <td>1638698311025</td>\n      <td>detail</td>\n      <td>758406</td>\n      <td>True</td>\n      <td>749645,753973,755646,486917,420594,757459,7557...</td>\n    </tr>\n    <tr>\n      <th>2843388</th>\n      <td>1542120650393517</td>\n      <td>262</td>\n      <td>755689</td>\n      <td>1638698805325</td>\n      <td>detail</td>\n      <td>755689</td>\n      <td>True</td>\n      <td>749645,753973,755646,486917,420594,757459,7557...</td>\n    </tr>\n    <tr>\n      <th>3012279</th>\n      <td>1542120650393517</td>\n      <td>262</td>\n      <td>763223</td>\n      <td>1638717116510</td>\n      <td>detail</td>\n      <td>763223</td>\n      <td>True</td>\n      <td>749645,753973,755646,486917,420594,757459,7557...</td>\n    </tr>\n    <tr>\n      <th>3015782</th>\n      <td>1542120650393517</td>\n      <td>263</td>\n      <td>761527</td>\n      <td>1638717310051</td>\n      <td>detail</td>\n      <td>761527</td>\n      <td>True</td>\n      <td>749645,753973,755646,486917,420594,757459,7557...</td>\n    </tr>\n    <tr>\n      <th>3016376</th>\n      <td>1542120650393517</td>\n      <td>263</td>\n      <td>761888</td>\n      <td>1638717340869</td>\n      <td>detail</td>\n      <td>761888</td>\n      <td>True</td>\n      <td>749645,753973,755646,486917,420594,757459,7557...</td>\n    </tr>\n  </tbody>\n</table>\n<p>1000 rows × 8 columns</p>\n</div>"
     },
     "execution_count": 65,
     "metadata": {},
     "output_type": "execute_result"
    }
   ],
   "source": [
    "df_t1"
   ],
   "metadata": {
    "collapsed": false,
    "pycharm": {
     "name": "#%%\n"
    }
   }
  },
  {
   "cell_type": "code",
   "execution_count": null,
   "outputs": [],
   "source": [
    "\n",
    "typedict2 = {'user_id': int, 'content_id': int, 'desc': object, 'topic_id': int, 'genre_id': int,\n",
    "             'introduction': object, 'comment': int, 'forward': int, 'thumb': int, 'detail': int, 'neg': int,\n",
    "             'created_at': int}\n",
    "df_inter = pd.read_csv('../data/inter_list_final.txt', sep='\\t', error_bad_lines=False, encoding='utf-8', header=0,\n",
    "                       dtype=typedict2)\n",
    "df_inter1 = pd.merge(df_inter, df2, on='user_id', how='left')\n",
    "\n",
    "df_inter1['content_num'] = pd.to_numeric(df_inter1['content_num']).fillna('0').astype('int64')\n",
    "\n",
    "df_inter1 = df_inter1.sort_values(by=['user_id', 'created_at'], ascending=True)\n",
    "# filter1 = pd.merge(df_inter1, df_content, on='content_id', how='left')\n",
    "df_inter1.to_csv('../data/dataset/intereaction.txt', sep='\\t', encoding='utf-8', index=False)\n",
    "bt1 = df_inter1[df_inter1['content_num'] > 1]\n",
    "bt2 = df_inter1[df_inter1['content_num'] > 2]\n",
    "bt3 = df_inter1[df_inter1['content_num'] > 3]\n",
    "bt4 = df_inter1[df_inter1['content_num'] > 4]\n",
    "bt5 = df_inter1[df_inter1['content_num'] > 5]\n",
    "\n",
    "bt1.to_csv('../data/dataset/bt1.txt', sep='\\t', encoding='utf-8', index=False)\n",
    "bt2.to_csv('../data/dataset/bt2.txt', sep='\\t', encoding='utf-8', index=False)\n",
    "bt3.to_csv('../data/dataset/bt3.txt', sep='\\t', encoding='utf-8', index=False)\n",
    "bt4.to_csv('../data/dataset/bt4.txt', sep='\\t', encoding='utf-8', index=False)\n",
    "bt5.to_csv('../data/dataset/bt5.txt', sep='\\t', encoding='utf-8', index=False)\n",
    "\n",
    "\n",
    "def lent(data):\n",
    "    try:\n",
    "        list = data.split(\",\")\n",
    "        return len(list)\n",
    "    except AttributeError:\n",
    "        return 0\n",
    "\n",
    "\n",
    "df2['content_num'] = df2['content_list'].apply(lent)\n",
    "\n",
    "df3 = df2.drop_duplicates(subset=['user_id'], keep='first')\n",
    "\n",
    "df4 = df3.drop(labels=['event_id', 'event_data', 'follow', 'content_id', 'rep', 'created_at'], axis=1)\n",
    "\n",
    "\n",
    "def split_dataset(data):\n",
    "    train_ratio = 0.8\n",
    "    dev_ratio = 0.1\n",
    "    train_length = int(len(data) * train_ratio)\n",
    "    dev_length = int(len(data) * dev_ratio)\n",
    "    train = data[:train_length]\n",
    "    train = train.drop(\n",
    "        labels=['content_list', 'content_num'], axis=1)\n",
    "    dev = data[train_length:train_length + dev_length]\n",
    "    dev = dev.drop(\n",
    "        labels=['content_list', 'content_num'], axis=1)\n",
    "    test = data[train_length + dev_length:]\n",
    "    test = test.drop(\n",
    "        labels=['content_id', 'desc', 'topic_id', 'genre_id', 'introduction', 'comment', 'forward', 'thumb', 'detail',\n",
    "                'neg', 'created_at', 'content_num'], axis=1)\n",
    "    return train, dev, test\n",
    "\n",
    "\n",
    "train_bt1, dev_bt1, test_bt1 = split_dataset(bt1)\n",
    "train_bt1 = train_bt1.drop(train_bt1[train_bt1['user_id'] == train_bt1.iloc[-1]['user_id']].index)\n",
    "dev_bt1 = dev_bt1.drop(dev_bt1[dev_bt1['user_id'] == dev_bt1.iloc[0]['user_id']].index)\n",
    "test_bt1 = test_bt1.drop(test_bt1[test_bt1['user_id'] == test_bt1.iloc[0]['user_id']].index)\n",
    "\n",
    "train_bt2, dev_bt2, test_bt2 = split_dataset(bt2)\n",
    "train_bt2 = train_bt2.drop(train_bt2[train_bt2['user_id'] == train_bt2.iloc[-1]['user_id']].index)\n",
    "dev_bt2 = dev_bt2.drop(dev_bt2[dev_bt2['user_id'] == dev_bt2.iloc[0]['user_id']].index)\n",
    "test_bt2 = test_bt2.drop(test_bt2[test_bt2['user_id'] == test_bt2.iloc[0]['user_id']].index)\n",
    "\n",
    "train_bt3, dev_bt3, test_bt3 = split_dataset(bt3)\n",
    "train_bt3 = train_bt3.drop(train_bt3[train_bt3['user_id'] == train_bt3.iloc[-1]['user_id']].index)\n",
    "dev_bt3 = dev_bt3.drop(dev_bt3[dev_bt3['user_id'] == dev_bt3.iloc[0]['user_id']].index)\n",
    "test_bt3 = test_bt3.drop(test_bt3[test_bt3['user_id'] == test_bt3.iloc[0]['user_id']].index)\n",
    "\n",
    "train_bt4, dev_bt4, test_bt4 = split_dataset(bt4)\n",
    "train_bt4 = train_bt4.drop(train_bt4[train_bt4['user_id'] == train_bt4.iloc[-1]['user_id']].index)\n",
    "dev_bt4 = dev_bt4.drop(dev_bt4[dev_bt4['user_id'] == dev_bt4.iloc[0]['user_id']].index)\n",
    "test_bt4 = test_bt4.drop(test_bt4[test_bt4['user_id'] == test_bt4.iloc[0]['user_id']].index)\n",
    "\n",
    "train_bt5, dev_bt5, test_bt5 = split_dataset(bt5)\n",
    "train_bt5 = train_bt5.drop(train_bt5[train_bt5['user_id'] == train_bt5.iloc[-1]['user_id']].index)\n",
    "dev_bt5 = dev_bt5.drop(dev_bt5[dev_bt5['user_id'] == dev_bt5.iloc[0]['user_id']].index)\n",
    "test_bt5 = test_bt5.drop(test_bt5[test_bt5['user_id'] == test_bt5.iloc[0]['user_id']].index)\n",
    "\n",
    "train_bt1.to_csv('../data/dataset/bt1/train.txt', sep='\\t', encoding='utf-8', index=False)\n",
    "dev_bt1.to_csv('../data/dataset/bt1/dev.txt', sep='\\t', encoding='utf-8', index=False)\n",
    "test_bt1.to_csv('../data/dataset/bt1/test.txt', sep='\\t', encoding='utf-8', index=False)\n",
    "train_bt2.to_csv('../data/dataset/bt2/train.txt', sep='\\t', encoding='utf-8', index=False)\n",
    "dev_bt2.to_csv('../data/dataset/bt2/dev.txt', sep='\\t', encoding='utf-8', index=False)\n",
    "test_bt2.to_csv('../data/dataset/bt2/test.txt', sep='\\t', encoding='utf-8', index=False)\n",
    "train_bt3.to_csv('../data/dataset/bt3/train.txt', sep='\\t', encoding='utf-8', index=False)\n",
    "dev_bt3.to_csv('../data/dataset/bt3/dev.txt', sep='\\t', encoding='utf-8', index=False)\n",
    "test_bt3.to_csv('../data/dataset/bt3/test.txt', sep='\\t', encoding='utf-8', index=False)\n",
    "train_bt4.to_csv('../data/dataset/bt4/train.txt', sep='\\t', encoding='utf-8', index=False)\n",
    "dev_bt4.to_csv('../data/dataset/bt4/dev.txt', sep='\\t', encoding='utf-8', index=False)\n",
    "test_bt4.to_csv('../data/dataset/bt4/test.txt', sep='\\t', encoding='utf-8', index=False)\n",
    "train_bt5.to_csv('../data/dataset/bt5/train.txt', sep='\\t', encoding='utf-8', index=False)\n",
    "dev_bt5.to_csv('../data/dataset/bt5/dev.txt', sep='\\t', encoding='utf-8', index=False)\n",
    "test_bt5.to_csv('../data/dataset/bt5/test.txt', sep='\\t', encoding='utf-8', index=False)"
   ],
   "metadata": {
    "collapsed": false,
    "pycharm": {
     "name": "#%%\n"
    }
   }
  },
  {
   "cell_type": "code",
   "execution_count": null,
   "outputs": [],
   "source": [],
   "metadata": {
    "collapsed": false,
    "pycharm": {
     "name": "#%%\n"
    }
   }
  }
 ],
 "metadata": {
  "kernelspec": {
   "display_name": "Python 3",
   "language": "python",
   "name": "python3"
  },
  "language_info": {
   "codemirror_mode": {
    "name": "ipython",
    "version": 2
   },
   "file_extension": ".py",
   "mimetype": "text/x-python",
   "name": "python",
   "nbconvert_exporter": "python",
   "pygments_lexer": "ipython2",
   "version": "2.7.6"
  }
 },
 "nbformat": 4,
 "nbformat_minor": 0
}