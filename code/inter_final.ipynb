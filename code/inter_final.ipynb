{
 "cells": [
  {
   "cell_type": "code",
   "execution_count": 38,
   "outputs": [
    {
     "name": "stderr",
     "output_type": "stream",
     "text": [
      "2022-03-05 21:20:15,078 - interlist_final - INFO - /Users/starry/Documents/Code/ai/KYRS/data\n",
      "2022-03-05 21:20:15,079 - interlist_final - INFO - /Users/starry/Documents/Code/ai/KYRS/dataset\n",
      "/Users/starry/conda/envs/local/lib/python3.8/site-packages/IPython/core/interactiveshell.py:3444: FutureWarning: The error_bad_lines argument has been deprecated and will be removed in a future version.\n",
      "\n",
      "\n",
      "  exec(code_obj, self.user_global_ns, self.user_ns)\n",
      "2022-03-05 21:21:41,971 - interlist_final - INFO - -----process sample-----\n",
      "/Users/starry/conda/envs/local/lib/python3.8/site-packages/pandas/util/_decorators.py:311: SettingWithCopyWarning: \n",
      "A value is trying to be set on a copy of a slice from a DataFrame\n",
      "\n",
      "See the caveats in the documentation: https://pandas.pydata.org/pandas-docs/stable/user_guide/indexing.html#returning-a-view-versus-a-copy\n",
      "  return func(*args, **kwargs)\n"
     ]
    }
   ],
   "source": [
    "import gc\n",
    "import os\n",
    "import time\n",
    "\n",
    "import pandas as pd\n",
    "from functools import reduce\n",
    "import json\n",
    "import logging\n",
    "\n",
    "data_path = os.path.join(os.path.dirname(os.getcwd()), 'data')\n",
    "output_path = os.path.join(os.path.dirname(os.getcwd()), 'dataset')\n",
    "if not os.path.exists(data_path):\n",
    "    os.mkdir(data_path)\n",
    "if not os.path.exists(output_path):\n",
    "    os.mkdir(output_path)\n",
    "logging.basicConfig(level=logging.INFO, format='%(asctime)s - %(name)s - %(levelname)s - %(message)s')\n",
    "logger = logging.getLogger(\"interlist_final\")\n",
    "handler1 = logging.FileHandler(\"base-log.log\")\n",
    "handler1.setLevel(logging.INFO)\n",
    "formatter = logging.Formatter('%(asctime)s|%(name)-12s+ %(levelname)-8s++%(message)s')\n",
    "handler1.setFormatter(formatter)\n",
    "logger.addHandler(handler1)\n",
    "\n",
    "logger.info(data_path)\n",
    "logger.info(output_path)\n",
    "user_act = pd.read_csv(os.path.join(data_path, 'user_action.csv'), sep=',', error_bad_lines=False, encoding='utf-8',\n",
    "                       header=0)\n",
    "df1 = user_act.drop(labels=['id',\n",
    "                            'device_id', 'os', 'os_version', 'version', 'system', 'platform', 'pg_short_url',\n",
    "                            'log_time', 'cal_dt', 'duration', 'log_id'], axis=1)\n",
    "df1.loc[((df1.event_id == 254) | (df1.event_id == 248)), 'follow'] = 'thumb'\n",
    "df1.loc[((df1.event_id == 257) | (df1.event_id == 249)), 'follow'] = 'comment'\n",
    "df1.loc[((df1.event_id == 258) | (df1.event_id == 256)), 'follow'] = 'forward'\n",
    "df1.loc[((df1.event_id == 262) | (df1.event_id == 263)), 'follow'] = 'detail'\n",
    "df1.loc[((df1.event_id == 264) | (df1.event_id == 310)), 'follow'] = 'detail'\n",
    "df1['follow'] = df1['follow'].fillna(0)\n",
    "# user_new['follow'] = user_new['follow'].fillna(0)\n",
    "df1['follow'] = df1['follow'].replace(0, 'neg')\n",
    "df1['follow'].value_counts()\n",
    "\n",
    "# df1['content_id'] = df1.loc[(df1.event_id != 221), 'event_data']\n",
    "df1['event_data'] = df1['event_data'].apply(json.loads)\n",
    "\n",
    "\n",
    "def process(event_data):\n",
    "    if not isinstance(event_data, dict):\n",
    "        # print('list')\n",
    "        return 0\n",
    "    if 'content_id' in event_data.keys():\n",
    "        return event_data['content_id']\n",
    "\n",
    "\n",
    "df1['event_data'] = df1['event_data'].apply(process)\n",
    "df1['event_data'] = pd.to_numeric(df1['event_data']).fillna('0').astype('int64')\n",
    "df1['event_data'].value_counts()\n",
    "df1['content_id'] = df1['event_data']\n",
    "\n",
    "df1 = df1.sort_values(by=['user_id', 'created_at'], ascending=True)\n",
    "\n",
    "gbr = df1.groupby('user_id')  # 用分组函数groupby()进行数据的分组，分组依据为'TYPE'这一属性\n",
    "\n",
    "df_neg = df1[df1['follow'] == 'neg']\n",
    "df_pos = df1[df1['follow'] != 'neg']\n",
    "\n",
    "logger.info('-' * 5 + 'process sample' + '-' * 5)\n",
    "\n",
    "df_pos.drop_duplicates(subset=['user_id', 'content_id', 'follow'], keep='last', inplace=True)\n",
    "df_neg.drop_duplicates(subset=['user_id', 'content_id'], keep='last', inplace=True)\n",
    "df_dic = df_neg['user_id'].value_counts().to_dict()\n",
    "\n",
    "ratio = len(df_pos) / len(df_neg)\n",
    "df_sample = dict()\n",
    "sum = 0\n",
    "for key, value in df_dic.items():\n",
    "    v = round(value * ratio)\n",
    "    df_sample[key] = v\n",
    "    sum += v\n",
    "\n",
    "\n",
    "def typicalsamling(group, typicalNDict):\n",
    "    name = group.name\n",
    "    n = typicalNDict[name]\n",
    "    return group.sample(n=n)\n",
    "\n",
    "\n",
    "df_neg_sample = df_neg.groupby('user_id').apply(typicalsamling, df_sample)\n",
    "\n",
    "frames = [df_pos, df_neg_sample]\n",
    "result = pd.concat(frames)\n",
    "result = result.sort_values(by=['user_id', 'created_at'], ascending=True)"
   ],
   "metadata": {
    "collapsed": false,
    "pycharm": {
     "name": "#%%\n"
    }
   }
  },
  {
   "cell_type": "code",
   "execution_count": 39,
   "outputs": [],
   "source": [
    "\n",
    "content = pd.read_csv(os.path.join(data_path, '帖子.csv'), sep=',', error_bad_lines=False, encoding='utf-8', header=0)\n",
    "topic = pd.read_csv(os.path.join(data_path, '话题.csv'), sep=',', error_bad_lines=False, encoding='utf-8', header=0)\n",
    "content.rename(columns={'subject_id': 'topic_id', 'id': 'content_id'}, inplace=True)\n",
    "content = content[['content_id', 'topic_id', 'desc']]\n",
    "topic = topic[['topic_id', 'genre_id', 'introduction']]\n",
    "add_content = pd.merge(result, content, on='content_id', how='left')\n",
    "add_topic = pd.merge(add_content, topic, on='topic_id', how='left')\n",
    "\n",
    "df_final = add_topic.join(pd.get_dummies(add_topic.follow))\n",
    "del add_content, add_topic, content, topic, df_neg_sample, df_neg, df_pos, result\n",
    "gc.collect()\n",
    "df_final = df_final[\n",
    "    ['user_id', 'topic_id', 'desc', 'genre_id', 'introduction', 'comment', 'forward', 'thumb', 'detail', 'neg',\n",
    "     'follow', 'created_at']]\n",
    "\n",
    "df_final['rep'] = df_final[df_final['follow'] != 'neg'].duplicated(subset=['user_id', 'desc'], keep=False)\n",
    "\n",
    "df_final['rep'] = df_final['rep'].fillna(False)\n"
   ],
   "metadata": {
    "collapsed": false,
    "pycharm": {
     "name": "#%%\n"
    }
   }
  },
  {
   "cell_type": "code",
   "execution_count": 40,
   "outputs": [
    {
     "name": "stderr",
     "output_type": "stream",
     "text": [
      "2022-03-05 21:22:06,772 - interlist_final - INFO - -----process comment-----\n"
     ]
    },
    {
     "data": {
      "text/plain": "     user_id  topic_id                                               desc  \\\n0          0       0.0  如何应对“难搞”的人？\\n\\n回忆一下，你生命中遇到过的那些称得上是“难搞”的人，身上是不是...   \n1          0       0.0  Stop shout out the window, please. I am enough...   \n2          0    1014.0  打开了新世界的大门，果然很解压😂\\n先戳左半边，再戳右半边，美图xx拼图再贴纸描边（但只能贴...   \n3          0    1014.0  小兔竟然get了跟我一样的点！\\n我之前闲的无聊的时候就用戳泡泡当像素画来用，感觉跟玩拼图的...   \n4          0       0.0  当知道他有了新恋情，感觉松了一口气\\n以为是不再在乎了\\n但昨天梦见他了，却有点不想醒过来\\...   \n..       ...       ...                                                ...   \n495        0       0.0  同事：你有过心动的男生吗？\\n我：当然有过，不过后来就不觉得心动了。\\n同事：那当时心动的原...   \n496        0       0.0  麻了 麻的非常彻底\\n其实是为了纪念一下我开天辟地第一回晚上放学回家能写的进去点作业的时候）...   \n497        0    1024.0  1. 给月季花们进行第二次打药\\n2. 周末前找到小伙伴一起玩剧本杀\\n3. 本周阅读完红杉...   \n498        0    1006.0  作为毛茸茸本茸，小兔当仁不让的来为大家介绍本期【一起翻翻乐】的共练活动啦！本期主题：摸摸身边...   \n499        0    1014.0  本期主题：一起发掘解压游戏新玩法~\\n小兔先来分享一下最近发现的戳泡泡新玩法，原来戳泡泡也可...   \n\n     genre_id                                       introduction  comment  \\\n0         NaN                                                NaN        1   \n1         NaN                                                NaN        0   \n2        33.0  “ 面对压力，你可以尝试读书、冥想、绘画、唱歌、聊天， 以及，有着迷之乐趣的——捏泡泡！”\\...        0   \n3        33.0  “ 面对压力，你可以尝试读书、冥想、绘画、唱歌、聊天， 以及，有着迷之乐趣的——捏泡泡！”\\...        0   \n4         NaN                                                NaN        0   \n..        ...                                                ...      ...   \n495       NaN                                                NaN        0   \n496       NaN                                                NaN        0   \n497      24.0  “有些事取决于你，有些事则不然。”\\n\\n失控往往带来令人暴躁的结果，活着的终极目标是「更好...        0   \n498      33.0  “毛茸茸真是世界上最最最治愈的存在啦！”\\n\\n也许是一只可爱的小猫咪，一个毛绒玩偶熊，一条...        0   \n499      33.0  “ 面对压力，你可以尝试读书、冥想、绘画、唱歌、聊天， 以及，有着迷之乐趣的——捏泡泡！”\\...        0   \n\n     forward  thumb  detail  neg   follow     created_at    rep  \n0          0      0       0    0  comment  1635990068272   True  \n1          0      0       0    1      neg  1635998426910  False  \n2          0      0       1    0   detail  1636006093810  False  \n3          0      0       1    0   detail  1636006096673  False  \n4          0      0       0    1      neg  1636011117859  False  \n..       ...    ...     ...  ...      ...            ...    ...  \n495        0      0       1    0   detail  1637101070209  False  \n496        0      0       0    1      neg  1637101316641  False  \n497        0      0       1    0   detail  1637102024261  False  \n498        0      0       1    0   detail  1637102046342  False  \n499        0      0       1    0   detail  1637102090175  False  \n\n[500 rows x 13 columns]",
      "text/html": "<div>\n<style scoped>\n    .dataframe tbody tr th:only-of-type {\n        vertical-align: middle;\n    }\n\n    .dataframe tbody tr th {\n        vertical-align: top;\n    }\n\n    .dataframe thead th {\n        text-align: right;\n    }\n</style>\n<table border=\"1\" class=\"dataframe\">\n  <thead>\n    <tr style=\"text-align: right;\">\n      <th></th>\n      <th>user_id</th>\n      <th>topic_id</th>\n      <th>desc</th>\n      <th>genre_id</th>\n      <th>introduction</th>\n      <th>comment</th>\n      <th>forward</th>\n      <th>thumb</th>\n      <th>detail</th>\n      <th>neg</th>\n      <th>follow</th>\n      <th>created_at</th>\n      <th>rep</th>\n    </tr>\n  </thead>\n  <tbody>\n    <tr>\n      <th>0</th>\n      <td>0</td>\n      <td>0.0</td>\n      <td>如何应对“难搞”的人？\\n\\n回忆一下，你生命中遇到过的那些称得上是“难搞”的人，身上是不是...</td>\n      <td>NaN</td>\n      <td>NaN</td>\n      <td>1</td>\n      <td>0</td>\n      <td>0</td>\n      <td>0</td>\n      <td>0</td>\n      <td>comment</td>\n      <td>1635990068272</td>\n      <td>True</td>\n    </tr>\n    <tr>\n      <th>1</th>\n      <td>0</td>\n      <td>0.0</td>\n      <td>Stop shout out the window, please. I am enough...</td>\n      <td>NaN</td>\n      <td>NaN</td>\n      <td>0</td>\n      <td>0</td>\n      <td>0</td>\n      <td>0</td>\n      <td>1</td>\n      <td>neg</td>\n      <td>1635998426910</td>\n      <td>False</td>\n    </tr>\n    <tr>\n      <th>2</th>\n      <td>0</td>\n      <td>1014.0</td>\n      <td>打开了新世界的大门，果然很解压😂\\n先戳左半边，再戳右半边，美图xx拼图再贴纸描边（但只能贴...</td>\n      <td>33.0</td>\n      <td>“ 面对压力，你可以尝试读书、冥想、绘画、唱歌、聊天， 以及，有着迷之乐趣的——捏泡泡！”\\...</td>\n      <td>0</td>\n      <td>0</td>\n      <td>0</td>\n      <td>1</td>\n      <td>0</td>\n      <td>detail</td>\n      <td>1636006093810</td>\n      <td>False</td>\n    </tr>\n    <tr>\n      <th>3</th>\n      <td>0</td>\n      <td>1014.0</td>\n      <td>小兔竟然get了跟我一样的点！\\n我之前闲的无聊的时候就用戳泡泡当像素画来用，感觉跟玩拼图的...</td>\n      <td>33.0</td>\n      <td>“ 面对压力，你可以尝试读书、冥想、绘画、唱歌、聊天， 以及，有着迷之乐趣的——捏泡泡！”\\...</td>\n      <td>0</td>\n      <td>0</td>\n      <td>0</td>\n      <td>1</td>\n      <td>0</td>\n      <td>detail</td>\n      <td>1636006096673</td>\n      <td>False</td>\n    </tr>\n    <tr>\n      <th>4</th>\n      <td>0</td>\n      <td>0.0</td>\n      <td>当知道他有了新恋情，感觉松了一口气\\n以为是不再在乎了\\n但昨天梦见他了，却有点不想醒过来\\...</td>\n      <td>NaN</td>\n      <td>NaN</td>\n      <td>0</td>\n      <td>0</td>\n      <td>0</td>\n      <td>0</td>\n      <td>1</td>\n      <td>neg</td>\n      <td>1636011117859</td>\n      <td>False</td>\n    </tr>\n    <tr>\n      <th>...</th>\n      <td>...</td>\n      <td>...</td>\n      <td>...</td>\n      <td>...</td>\n      <td>...</td>\n      <td>...</td>\n      <td>...</td>\n      <td>...</td>\n      <td>...</td>\n      <td>...</td>\n      <td>...</td>\n      <td>...</td>\n      <td>...</td>\n    </tr>\n    <tr>\n      <th>495</th>\n      <td>0</td>\n      <td>0.0</td>\n      <td>同事：你有过心动的男生吗？\\n我：当然有过，不过后来就不觉得心动了。\\n同事：那当时心动的原...</td>\n      <td>NaN</td>\n      <td>NaN</td>\n      <td>0</td>\n      <td>0</td>\n      <td>0</td>\n      <td>1</td>\n      <td>0</td>\n      <td>detail</td>\n      <td>1637101070209</td>\n      <td>False</td>\n    </tr>\n    <tr>\n      <th>496</th>\n      <td>0</td>\n      <td>0.0</td>\n      <td>麻了 麻的非常彻底\\n其实是为了纪念一下我开天辟地第一回晚上放学回家能写的进去点作业的时候）...</td>\n      <td>NaN</td>\n      <td>NaN</td>\n      <td>0</td>\n      <td>0</td>\n      <td>0</td>\n      <td>0</td>\n      <td>1</td>\n      <td>neg</td>\n      <td>1637101316641</td>\n      <td>False</td>\n    </tr>\n    <tr>\n      <th>497</th>\n      <td>0</td>\n      <td>1024.0</td>\n      <td>1. 给月季花们进行第二次打药\\n2. 周末前找到小伙伴一起玩剧本杀\\n3. 本周阅读完红杉...</td>\n      <td>24.0</td>\n      <td>“有些事取决于你，有些事则不然。”\\n\\n失控往往带来令人暴躁的结果，活着的终极目标是「更好...</td>\n      <td>0</td>\n      <td>0</td>\n      <td>0</td>\n      <td>1</td>\n      <td>0</td>\n      <td>detail</td>\n      <td>1637102024261</td>\n      <td>False</td>\n    </tr>\n    <tr>\n      <th>498</th>\n      <td>0</td>\n      <td>1006.0</td>\n      <td>作为毛茸茸本茸，小兔当仁不让的来为大家介绍本期【一起翻翻乐】的共练活动啦！本期主题：摸摸身边...</td>\n      <td>33.0</td>\n      <td>“毛茸茸真是世界上最最最治愈的存在啦！”\\n\\n也许是一只可爱的小猫咪，一个毛绒玩偶熊，一条...</td>\n      <td>0</td>\n      <td>0</td>\n      <td>0</td>\n      <td>1</td>\n      <td>0</td>\n      <td>detail</td>\n      <td>1637102046342</td>\n      <td>False</td>\n    </tr>\n    <tr>\n      <th>499</th>\n      <td>0</td>\n      <td>1014.0</td>\n      <td>本期主题：一起发掘解压游戏新玩法~\\n小兔先来分享一下最近发现的戳泡泡新玩法，原来戳泡泡也可...</td>\n      <td>33.0</td>\n      <td>“ 面对压力，你可以尝试读书、冥想、绘画、唱歌、聊天， 以及，有着迷之乐趣的——捏泡泡！”\\...</td>\n      <td>0</td>\n      <td>0</td>\n      <td>0</td>\n      <td>1</td>\n      <td>0</td>\n      <td>detail</td>\n      <td>1637102090175</td>\n      <td>False</td>\n    </tr>\n  </tbody>\n</table>\n<p>500 rows × 13 columns</p>\n</div>"
     },
     "execution_count": 40,
     "metadata": {},
     "output_type": "execute_result"
    }
   ],
   "source": [
    "\n",
    "\n",
    "def de_duplicate_comment(flag, user_id, desc, comment):\n",
    "    if flag is True:\n",
    "        comment = df_final.loc[((df_final.user_id == user_id) & (df_final.desc == desc)), 'comment'].sum()\n",
    "        return int(min(comment, 1))\n",
    "    else:\n",
    "        return comment\n",
    "\n",
    "\n",
    "def de_duplicate_forward(flag, user_id, desc, forward):\n",
    "    if flag is True:\n",
    "        forward = df_final.loc[((df_final.user_id == user_id) & (df_final.desc == desc)), 'forward'].sum()\n",
    "        return int(min(forward, 1))\n",
    "    else:\n",
    "        return forward\n",
    "\n",
    "\n",
    "def de_duplicate_thumb(flag, user_id, desc, thumb):\n",
    "    if flag is True:\n",
    "        thumb = df_final.loc[((df_final.user_id == user_id) & (df_final.desc == desc)), 'thumb'].sum()\n",
    "        return int(min(thumb, 1))\n",
    "    else:\n",
    "        return thumb\n",
    "\n",
    "\n",
    "def de_duplicate_detail(flag, user_id, desc, detail):\n",
    "    if flag is True:\n",
    "        detail = df_final.loc[((df_final.user_id == user_id) & (df_final.desc == desc)), 'detail'].sum()\n",
    "        return int(min(detail, 1))\n",
    "    else:\n",
    "        return detail\n",
    "\n",
    "\n",
    "logger.info('-' * 5 + 'process comment' + '-' * 5)\n",
    "df_final = df_final.head(500)\n",
    "df_final"
   ],
   "metadata": {
    "collapsed": false,
    "pycharm": {
     "name": "#%%\n"
    }
   }
  },
  {
   "cell_type": "code",
   "execution_count": 41,
   "outputs": [
    {
     "name": "stderr",
     "output_type": "stream",
     "text": [
      "2022-03-05 21:22:06,821 - interlist_final - INFO - -----process forward-----\n",
      "2022-03-05 21:22:06,850 - interlist_final - INFO - -----process thumb-----\n",
      "2022-03-05 21:22:06,876 - interlist_final - INFO - -----process detail-----\n"
     ]
    }
   ],
   "source": [
    "df_final['comment'] = df_final.apply(\n",
    "    lambda row: de_duplicate_comment(row['rep'], row['user_id'], row['desc'], row['comment']), axis=1)\n",
    "logger.info('-' * 5 + 'process forward' + '-' * 5)\n",
    "\n",
    "df_final['forward'] = df_final.apply(\n",
    "    lambda row: de_duplicate_forward(row['rep'], row['user_id'], row['desc'], row['forward']), axis=1)\n",
    "logger.info('-' * 5 + 'process thumb' + '-' * 5)\n",
    "\n",
    "df_final['thumb'] = df_final.apply(\n",
    "    lambda row: de_duplicate_thumb(row['rep'], row['user_id'], row['desc'], row['thumb']), axis=1)\n",
    "logger.info('-' * 5 + 'process detail' + '-' * 5)\n",
    "\n",
    "df_final['detail'] = df_final.apply(\n",
    "    lambda row: de_duplicate_detail(row['rep'], row['user_id'], row['desc'], row['detail']), axis=1)"
   ],
   "metadata": {
    "collapsed": false,
    "pycharm": {
     "name": "#%%\n"
    }
   }
  },
  {
   "cell_type": "code",
   "execution_count": 42,
   "outputs": [
    {
     "data": {
      "text/plain": "     user_id  topic_id                                               desc  \\\n0          0       0.0  如何应对“难搞”的人？\\n\\n回忆一下，你生命中遇到过的那些称得上是“难搞”的人，身上是不是...   \n1          0       0.0  Stop shout out the window, please. I am enough...   \n2          0    1014.0  打开了新世界的大门，果然很解压😂\\n先戳左半边，再戳右半边，美图xx拼图再贴纸描边（但只能贴...   \n3          0    1014.0  小兔竟然get了跟我一样的点！\\n我之前闲的无聊的时候就用戳泡泡当像素画来用，感觉跟玩拼图的...   \n4          0       0.0  当知道他有了新恋情，感觉松了一口气\\n以为是不再在乎了\\n但昨天梦见他了，却有点不想醒过来\\...   \n..       ...       ...                                                ...   \n495        0       0.0  同事：你有过心动的男生吗？\\n我：当然有过，不过后来就不觉得心动了。\\n同事：那当时心动的原...   \n496        0       0.0  麻了 麻的非常彻底\\n其实是为了纪念一下我开天辟地第一回晚上放学回家能写的进去点作业的时候）...   \n497        0    1024.0  1. 给月季花们进行第二次打药\\n2. 周末前找到小伙伴一起玩剧本杀\\n3. 本周阅读完红杉...   \n498        0    1006.0  作为毛茸茸本茸，小兔当仁不让的来为大家介绍本期【一起翻翻乐】的共练活动啦！本期主题：摸摸身边...   \n499        0    1014.0  本期主题：一起发掘解压游戏新玩法~\\n小兔先来分享一下最近发现的戳泡泡新玩法，原来戳泡泡也可...   \n\n     genre_id                                       introduction  comment  \\\n0         NaN                                                NaN        1   \n1         NaN                                                NaN        0   \n2        33.0  “ 面对压力，你可以尝试读书、冥想、绘画、唱歌、聊天， 以及，有着迷之乐趣的——捏泡泡！”\\...        0   \n3        33.0  “ 面对压力，你可以尝试读书、冥想、绘画、唱歌、聊天， 以及，有着迷之乐趣的——捏泡泡！”\\...        0   \n4         NaN                                                NaN        0   \n..        ...                                                ...      ...   \n495       NaN                                                NaN        0   \n496       NaN                                                NaN        0   \n497      24.0  “有些事取决于你，有些事则不然。”\\n\\n失控往往带来令人暴躁的结果，活着的终极目标是「更好...        0   \n498      33.0  “毛茸茸真是世界上最最最治愈的存在啦！”\\n\\n也许是一只可爱的小猫咪，一个毛绒玩偶熊，一条...        0   \n499      33.0  “ 面对压力，你可以尝试读书、冥想、绘画、唱歌、聊天， 以及，有着迷之乐趣的——捏泡泡！”\\...        0   \n\n     forward  thumb  detail  neg   follow     created_at    rep  \n0          0      0       1    0  comment  1635990068272   True  \n1          0      0       0    1      neg  1635998426910  False  \n2          0      0       1    0   detail  1636006093810  False  \n3          0      0       1    0   detail  1636006096673  False  \n4          0      0       0    1      neg  1636011117859  False  \n..       ...    ...     ...  ...      ...            ...    ...  \n495        0      0       1    0   detail  1637101070209  False  \n496        0      0       0    1      neg  1637101316641  False  \n497        0      0       1    0   detail  1637102024261  False  \n498        0      0       1    0   detail  1637102046342  False  \n499        0      0       1    0   detail  1637102090175  False  \n\n[500 rows x 13 columns]",
      "text/html": "<div>\n<style scoped>\n    .dataframe tbody tr th:only-of-type {\n        vertical-align: middle;\n    }\n\n    .dataframe tbody tr th {\n        vertical-align: top;\n    }\n\n    .dataframe thead th {\n        text-align: right;\n    }\n</style>\n<table border=\"1\" class=\"dataframe\">\n  <thead>\n    <tr style=\"text-align: right;\">\n      <th></th>\n      <th>user_id</th>\n      <th>topic_id</th>\n      <th>desc</th>\n      <th>genre_id</th>\n      <th>introduction</th>\n      <th>comment</th>\n      <th>forward</th>\n      <th>thumb</th>\n      <th>detail</th>\n      <th>neg</th>\n      <th>follow</th>\n      <th>created_at</th>\n      <th>rep</th>\n    </tr>\n  </thead>\n  <tbody>\n    <tr>\n      <th>0</th>\n      <td>0</td>\n      <td>0.0</td>\n      <td>如何应对“难搞”的人？\\n\\n回忆一下，你生命中遇到过的那些称得上是“难搞”的人，身上是不是...</td>\n      <td>NaN</td>\n      <td>NaN</td>\n      <td>1</td>\n      <td>0</td>\n      <td>0</td>\n      <td>1</td>\n      <td>0</td>\n      <td>comment</td>\n      <td>1635990068272</td>\n      <td>True</td>\n    </tr>\n    <tr>\n      <th>1</th>\n      <td>0</td>\n      <td>0.0</td>\n      <td>Stop shout out the window, please. I am enough...</td>\n      <td>NaN</td>\n      <td>NaN</td>\n      <td>0</td>\n      <td>0</td>\n      <td>0</td>\n      <td>0</td>\n      <td>1</td>\n      <td>neg</td>\n      <td>1635998426910</td>\n      <td>False</td>\n    </tr>\n    <tr>\n      <th>2</th>\n      <td>0</td>\n      <td>1014.0</td>\n      <td>打开了新世界的大门，果然很解压😂\\n先戳左半边，再戳右半边，美图xx拼图再贴纸描边（但只能贴...</td>\n      <td>33.0</td>\n      <td>“ 面对压力，你可以尝试读书、冥想、绘画、唱歌、聊天， 以及，有着迷之乐趣的——捏泡泡！”\\...</td>\n      <td>0</td>\n      <td>0</td>\n      <td>0</td>\n      <td>1</td>\n      <td>0</td>\n      <td>detail</td>\n      <td>1636006093810</td>\n      <td>False</td>\n    </tr>\n    <tr>\n      <th>3</th>\n      <td>0</td>\n      <td>1014.0</td>\n      <td>小兔竟然get了跟我一样的点！\\n我之前闲的无聊的时候就用戳泡泡当像素画来用，感觉跟玩拼图的...</td>\n      <td>33.0</td>\n      <td>“ 面对压力，你可以尝试读书、冥想、绘画、唱歌、聊天， 以及，有着迷之乐趣的——捏泡泡！”\\...</td>\n      <td>0</td>\n      <td>0</td>\n      <td>0</td>\n      <td>1</td>\n      <td>0</td>\n      <td>detail</td>\n      <td>1636006096673</td>\n      <td>False</td>\n    </tr>\n    <tr>\n      <th>4</th>\n      <td>0</td>\n      <td>0.0</td>\n      <td>当知道他有了新恋情，感觉松了一口气\\n以为是不再在乎了\\n但昨天梦见他了，却有点不想醒过来\\...</td>\n      <td>NaN</td>\n      <td>NaN</td>\n      <td>0</td>\n      <td>0</td>\n      <td>0</td>\n      <td>0</td>\n      <td>1</td>\n      <td>neg</td>\n      <td>1636011117859</td>\n      <td>False</td>\n    </tr>\n    <tr>\n      <th>...</th>\n      <td>...</td>\n      <td>...</td>\n      <td>...</td>\n      <td>...</td>\n      <td>...</td>\n      <td>...</td>\n      <td>...</td>\n      <td>...</td>\n      <td>...</td>\n      <td>...</td>\n      <td>...</td>\n      <td>...</td>\n      <td>...</td>\n    </tr>\n    <tr>\n      <th>495</th>\n      <td>0</td>\n      <td>0.0</td>\n      <td>同事：你有过心动的男生吗？\\n我：当然有过，不过后来就不觉得心动了。\\n同事：那当时心动的原...</td>\n      <td>NaN</td>\n      <td>NaN</td>\n      <td>0</td>\n      <td>0</td>\n      <td>0</td>\n      <td>1</td>\n      <td>0</td>\n      <td>detail</td>\n      <td>1637101070209</td>\n      <td>False</td>\n    </tr>\n    <tr>\n      <th>496</th>\n      <td>0</td>\n      <td>0.0</td>\n      <td>麻了 麻的非常彻底\\n其实是为了纪念一下我开天辟地第一回晚上放学回家能写的进去点作业的时候）...</td>\n      <td>NaN</td>\n      <td>NaN</td>\n      <td>0</td>\n      <td>0</td>\n      <td>0</td>\n      <td>0</td>\n      <td>1</td>\n      <td>neg</td>\n      <td>1637101316641</td>\n      <td>False</td>\n    </tr>\n    <tr>\n      <th>497</th>\n      <td>0</td>\n      <td>1024.0</td>\n      <td>1. 给月季花们进行第二次打药\\n2. 周末前找到小伙伴一起玩剧本杀\\n3. 本周阅读完红杉...</td>\n      <td>24.0</td>\n      <td>“有些事取决于你，有些事则不然。”\\n\\n失控往往带来令人暴躁的结果，活着的终极目标是「更好...</td>\n      <td>0</td>\n      <td>0</td>\n      <td>0</td>\n      <td>1</td>\n      <td>0</td>\n      <td>detail</td>\n      <td>1637102024261</td>\n      <td>False</td>\n    </tr>\n    <tr>\n      <th>498</th>\n      <td>0</td>\n      <td>1006.0</td>\n      <td>作为毛茸茸本茸，小兔当仁不让的来为大家介绍本期【一起翻翻乐】的共练活动啦！本期主题：摸摸身边...</td>\n      <td>33.0</td>\n      <td>“毛茸茸真是世界上最最最治愈的存在啦！”\\n\\n也许是一只可爱的小猫咪，一个毛绒玩偶熊，一条...</td>\n      <td>0</td>\n      <td>0</td>\n      <td>0</td>\n      <td>1</td>\n      <td>0</td>\n      <td>detail</td>\n      <td>1637102046342</td>\n      <td>False</td>\n    </tr>\n    <tr>\n      <th>499</th>\n      <td>0</td>\n      <td>1014.0</td>\n      <td>本期主题：一起发掘解压游戏新玩法~\\n小兔先来分享一下最近发现的戳泡泡新玩法，原来戳泡泡也可...</td>\n      <td>33.0</td>\n      <td>“ 面对压力，你可以尝试读书、冥想、绘画、唱歌、聊天， 以及，有着迷之乐趣的——捏泡泡！”\\...</td>\n      <td>0</td>\n      <td>0</td>\n      <td>0</td>\n      <td>1</td>\n      <td>0</td>\n      <td>detail</td>\n      <td>1637102090175</td>\n      <td>False</td>\n    </tr>\n  </tbody>\n</table>\n<p>500 rows × 13 columns</p>\n</div>"
     },
     "execution_count": 42,
     "metadata": {},
     "output_type": "execute_result"
    }
   ],
   "source": [
    "df_final['detail'] = df_final['detail'].astype('int64')\n",
    "df_final['comment'] = df_final['comment'].astype('int64')\n",
    "df_final['forward'] = df_final['forward'].astype('int64')\n",
    "df_final['thumb'] = df_final['thumb'].astype('int64')\n",
    "df_final"
   ],
   "metadata": {
    "collapsed": false,
    "pycharm": {
     "name": "#%%\n"
    }
   }
  },
  {
   "cell_type": "code",
   "execution_count": 42,
   "outputs": [],
   "source": [],
   "metadata": {
    "collapsed": false,
    "pycharm": {
     "name": "#%%\n"
    }
   }
  }
 ],
 "metadata": {
  "kernelspec": {
   "display_name": "Python 3",
   "language": "python",
   "name": "python3"
  },
  "language_info": {
   "codemirror_mode": {
    "name": "ipython",
    "version": 2
   },
   "file_extension": ".py",
   "mimetype": "text/x-python",
   "name": "python",
   "nbconvert_exporter": "python",
   "pygments_lexer": "ipython2",
   "version": "2.7.6"
  }
 },
 "nbformat": 4,
 "nbformat_minor": 0
}