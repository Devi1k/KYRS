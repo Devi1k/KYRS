{
 "cells": [
  {
   "cell_type": "code",
   "execution_count": 1,
   "outputs": [],
   "source": [
    "import os\n",
    "import pandas as pd\n",
    "\n",
    "data_dir = os.path.join(os.path.dirname(os.getcwd()), 'data','0315')\n",
    "typedict_content = {'content_id': int, 'content_title': object, 'desc': object, 'topic_id': int, 'topic_title': object,\n",
    "                    'introduction': object, 'praise_count': int, 'reply_count': int,\n",
    "                    'forward_count': int,\n",
    "                    'topic_praise_count': int,\n",
    "                    'topic_reply_count': int,\n",
    "                    'topic_forward_count': int, 'inter_list': object}\n",
    "\n",
    "typedict_content_inter = {'content_id': int, 'inter_list': object}\n",
    "\n",
    "typedict_inter_de_du = {'user_id': int, 'topic_id': int, 'desc': object,\n",
    "                        'genre_id': int, 'introduction': object, 'comment': int,\n",
    "                        'forward': int,\n",
    "                        'thumb': int,\n",
    "                        'detail': int,\n",
    "                        'neg': int}\n",
    "\n",
    "typedict_content_list = {'user_id': int, 'content_list': object, 'content_num': object}"
   ],
   "metadata": {
    "collapsed": false,
    "pycharm": {
     "name": "#%%\n"
    }
   }
  },
  {
   "cell_type": "code",
   "execution_count": 2,
   "outputs": [
    {
     "data": {
      "text/plain": "               user_id  topic_id  \\\n0                    0      1014   \n1                    0      1014   \n2                    0         0   \n3                    0         0   \n4                    0       982   \n...                ...       ...   \n2995  1542123137051579      1026   \n2996  1542123137051579         0   \n2997  1542123137051579         0   \n2998  1542123137051579         0   \n2999  1542123137051579       877   \n\n                                                   desc  genre_id  \\\n0     打开了新世界的大门，果然很解压😂先戳左半边，再戳右半边，美图xx拼图再贴纸描边（但只能贴25...        33   \n1     小兔竟然get了跟我一样的点！我之前闲的无聊的时候就用戳泡泡当像素画来用，感觉跟玩拼图的时候...        33   \n2                      你是会经历难熬的时光，但未曾注意的美好事物也总会把你唤醒#晚安#         0   \n3     昨天是意外出行，今天是早有计划，哈哈哈，本来只是约了一个认识的校友师姐，结果她带了两个朋友，...         0   \n4     可能这段时间是我人生的变轨时期吧。从原来的培训学校刚一辞职，就碰上了国家的“双减”，在我们的...        29   \n...                                                 ...       ...   \n2995  手机关掉了所有app的通知，只留了月食的。因为每天的话题都会让我有一个回忆的时间。看到这个话...        33   \n2996  隔壁的男室友好讨厌，天天舔好看的女室友（又是给人家做饭，又是陪人家买吃的，半夜还在公寓走廊里...         0   \n2997                                     上班路上，遇上美景~☀️🌳🍃         0   \n2998  今天的口译任务有点特别，我本来只是猜测，去了现场发现果然如此。医生在任务备注里写到“Make...         0   \n2999        删到官方提示😓自由是什么？能做自己想做的嘛？我觉得的是，能够拒绝自己不想要的才叫自由☼        29   \n\n                                           introduction  comment  forward  \\\n0     “面对压力，你可以尝试读书、冥想、绘画、唱歌、聊天，以及，有着迷之乐趣的——捏泡泡！”当下社...        0        0   \n1     “面对压力，你可以尝试读书、冥想、绘画、唱歌、聊天，以及，有着迷之乐趣的——捏泡泡！”当下社...        0        0   \n2                                                   NaN        1        0   \n3                                                   NaN        0        0   \n4     “人们每时每刻都在进行着大大小小的选择，而选择的结果决定着一个人接下来的道路和方向，尤其是在...        0        0   \n...                                                 ...      ...      ...   \n2995  生活经常被忙碌和焦虑填满，自己能掌控的时光越来越少，“精神消费”已然成为了生活中不可或缺的一...        0        0   \n2996                                                NaN        0        0   \n2997                                                NaN        1        0   \n2998                                                NaN        0        0   \n2999  “忘掉种过的花重新的出发放弃理想吧忘掉砌过的沙回忆的堡垒刹那已倒下”或许你也在某个时刻，幡然...        0        0   \n\n      thumb  detail  neg  \n0         0       1    0  \n1         0       1    0  \n2         0       0    0  \n3         0       1    0  \n4         0       1    0  \n...     ...     ...  ...  \n2995      0       1    0  \n2996      0       1    0  \n2997      0       1    0  \n2998      0       1    0  \n2999      0       1    0  \n\n[3000 rows x 10 columns]",
      "text/html": "<div>\n<style scoped>\n    .dataframe tbody tr th:only-of-type {\n        vertical-align: middle;\n    }\n\n    .dataframe tbody tr th {\n        vertical-align: top;\n    }\n\n    .dataframe thead th {\n        text-align: right;\n    }\n</style>\n<table border=\"1\" class=\"dataframe\">\n  <thead>\n    <tr style=\"text-align: right;\">\n      <th></th>\n      <th>user_id</th>\n      <th>topic_id</th>\n      <th>desc</th>\n      <th>genre_id</th>\n      <th>introduction</th>\n      <th>comment</th>\n      <th>forward</th>\n      <th>thumb</th>\n      <th>detail</th>\n      <th>neg</th>\n    </tr>\n  </thead>\n  <tbody>\n    <tr>\n      <th>0</th>\n      <td>0</td>\n      <td>1014</td>\n      <td>打开了新世界的大门，果然很解压😂先戳左半边，再戳右半边，美图xx拼图再贴纸描边（但只能贴25...</td>\n      <td>33</td>\n      <td>“面对压力，你可以尝试读书、冥想、绘画、唱歌、聊天，以及，有着迷之乐趣的——捏泡泡！”当下社...</td>\n      <td>0</td>\n      <td>0</td>\n      <td>0</td>\n      <td>1</td>\n      <td>0</td>\n    </tr>\n    <tr>\n      <th>1</th>\n      <td>0</td>\n      <td>1014</td>\n      <td>小兔竟然get了跟我一样的点！我之前闲的无聊的时候就用戳泡泡当像素画来用，感觉跟玩拼图的时候...</td>\n      <td>33</td>\n      <td>“面对压力，你可以尝试读书、冥想、绘画、唱歌、聊天，以及，有着迷之乐趣的——捏泡泡！”当下社...</td>\n      <td>0</td>\n      <td>0</td>\n      <td>0</td>\n      <td>1</td>\n      <td>0</td>\n    </tr>\n    <tr>\n      <th>2</th>\n      <td>0</td>\n      <td>0</td>\n      <td>你是会经历难熬的时光，但未曾注意的美好事物也总会把你唤醒#晚安#</td>\n      <td>0</td>\n      <td>NaN</td>\n      <td>1</td>\n      <td>0</td>\n      <td>0</td>\n      <td>0</td>\n      <td>0</td>\n    </tr>\n    <tr>\n      <th>3</th>\n      <td>0</td>\n      <td>0</td>\n      <td>昨天是意外出行，今天是早有计划，哈哈哈，本来只是约了一个认识的校友师姐，结果她带了两个朋友，...</td>\n      <td>0</td>\n      <td>NaN</td>\n      <td>0</td>\n      <td>0</td>\n      <td>0</td>\n      <td>1</td>\n      <td>0</td>\n    </tr>\n    <tr>\n      <th>4</th>\n      <td>0</td>\n      <td>982</td>\n      <td>可能这段时间是我人生的变轨时期吧。从原来的培训学校刚一辞职，就碰上了国家的“双减”，在我们的...</td>\n      <td>29</td>\n      <td>“人们每时每刻都在进行着大大小小的选择，而选择的结果决定着一个人接下来的道路和方向，尤其是在...</td>\n      <td>0</td>\n      <td>0</td>\n      <td>0</td>\n      <td>1</td>\n      <td>0</td>\n    </tr>\n    <tr>\n      <th>...</th>\n      <td>...</td>\n      <td>...</td>\n      <td>...</td>\n      <td>...</td>\n      <td>...</td>\n      <td>...</td>\n      <td>...</td>\n      <td>...</td>\n      <td>...</td>\n      <td>...</td>\n    </tr>\n    <tr>\n      <th>2995</th>\n      <td>1542123137051579</td>\n      <td>1026</td>\n      <td>手机关掉了所有app的通知，只留了月食的。因为每天的话题都会让我有一个回忆的时间。看到这个话...</td>\n      <td>33</td>\n      <td>生活经常被忙碌和焦虑填满，自己能掌控的时光越来越少，“精神消费”已然成为了生活中不可或缺的一...</td>\n      <td>0</td>\n      <td>0</td>\n      <td>0</td>\n      <td>1</td>\n      <td>0</td>\n    </tr>\n    <tr>\n      <th>2996</th>\n      <td>1542123137051579</td>\n      <td>0</td>\n      <td>隔壁的男室友好讨厌，天天舔好看的女室友（又是给人家做饭，又是陪人家买吃的，半夜还在公寓走廊里...</td>\n      <td>0</td>\n      <td>NaN</td>\n      <td>0</td>\n      <td>0</td>\n      <td>0</td>\n      <td>1</td>\n      <td>0</td>\n    </tr>\n    <tr>\n      <th>2997</th>\n      <td>1542123137051579</td>\n      <td>0</td>\n      <td>上班路上，遇上美景~☀️🌳🍃</td>\n      <td>0</td>\n      <td>NaN</td>\n      <td>1</td>\n      <td>0</td>\n      <td>0</td>\n      <td>1</td>\n      <td>0</td>\n    </tr>\n    <tr>\n      <th>2998</th>\n      <td>1542123137051579</td>\n      <td>0</td>\n      <td>今天的口译任务有点特别，我本来只是猜测，去了现场发现果然如此。医生在任务备注里写到“Make...</td>\n      <td>0</td>\n      <td>NaN</td>\n      <td>0</td>\n      <td>0</td>\n      <td>0</td>\n      <td>1</td>\n      <td>0</td>\n    </tr>\n    <tr>\n      <th>2999</th>\n      <td>1542123137051579</td>\n      <td>877</td>\n      <td>删到官方提示😓自由是什么？能做自己想做的嘛？我觉得的是，能够拒绝自己不想要的才叫自由☼</td>\n      <td>29</td>\n      <td>“忘掉种过的花重新的出发放弃理想吧忘掉砌过的沙回忆的堡垒刹那已倒下”或许你也在某个时刻，幡然...</td>\n      <td>0</td>\n      <td>0</td>\n      <td>0</td>\n      <td>1</td>\n      <td>0</td>\n    </tr>\n  </tbody>\n</table>\n<p>3000 rows × 10 columns</p>\n</div>"
     },
     "execution_count": 2,
     "metadata": {},
     "output_type": "execute_result"
    }
   ],
   "source": [
    "\n",
    "inter_dedu = pd.read_csv(os.path.join(data_dir, 'content_with_topiccnt.txt'), sep='\\t', encoding='utf-8',\n",
    "                         dtype=typedict_inter_de_du)\n",
    "inter_dedu.head(3000)"
   ],
   "metadata": {
    "collapsed": false,
    "pycharm": {
     "name": "#%%\n"
    }
   }
  },
  {
   "cell_type": "code",
   "execution_count": 8,
   "outputs": [
    {
     "data": {
      "text/plain": "      content_id     content_title  \\\n0              1     有什么可以应对焦虑的方法？   \n1              2    我们该如何处理自己的负能量？   \n2              3    如何引导父母缓解他们的焦虑？   \n3              4             上海的有吗   \n4              5   一起加班的时间也可以是开心的鸭   \n...          ...               ...   \n2995        2996     为什么我最近这么丧啊！！！   \n2996        2997          分享今日份的武汉   \n2997        2998  咆哮有助于身心健康啊啊啊啊！！！   \n2998        2999          我想要长胖！！！   \n2999        3000   《釜山行》一部体现人性的丧尸片   \n\n                                                   desc  topic_id topic_title  \\\n0                                         有什么可以应对焦虑的方法？         0         NaN   \n1          自己想倾诉的时候，很害怕自己的负能量会影响身边亲近的人，那么我们该如何处理自己的负能量？       240        情绪树洞   \n2     当父母逐渐老去，出现由更年期引发的一系列焦虑心态而不自知时，身为子女可以提供什么样的帮助？或...       242    你家那本难念的经   \n3                                                    rt         0         NaN   \n4                                        并肩作战的小伙伴们，加油呀！       190  记录美好生活的仪式感   \n...                                                 ...       ...         ...   \n2995  最近情绪很不好，总是时不时的低落难过，被孤独感包围！！！可是这种状态很讨厌啊！！！不知道咋办...         0         NaN   \n2996                      白天太阳温度还算给力，穿了小半天短袖。傍晚的天空有点好看。       190  记录美好生活的仪式感   \n2997  咳咳，认真地说，前几年有个小品，演的是军嫂探亲，海员说，你拳头往下握，声音就往上走出来了。其...         0         NaN   \n2998                         我故意的(*Ü*)ﾉ☀不过我确实好几年体重没变化了?         0         NaN   \n2999  一开始，每个人都有不同的原因前往釜山，并上了同一辆列车。与此同时，政府正在极力洗白丧尸肆虐的...         0         NaN   \n\n                                           introduction  praise_count  \\\n0                                                   NaN             0   \n1     情绪没有正当、合理之说，它只是一种真实存在的体验，不管是正性情绪还是负性情绪都像是饥饿、口渴...             0   \n2     俗话说家家有本难念的经，托尔斯泰曾说过「幸福的家庭都是相同的，不幸的家庭各有各的不幸」，你家...             0   \n3                                                   NaN             0   \n4     “人是无处可逃的，每一天都是普通的一天。”仪式感却可以为这普通的一天赋予全新的意义，当无数个...             3   \n...                                                 ...           ...   \n2995                                                NaN             1   \n2996  “人是无处可逃的，每一天都是普通的一天。”仪式感却可以为这普通的一天赋予全新的意义，当无数个...             2   \n2997                                                NaN             0   \n2998                                                NaN             0   \n2999                                                NaN             1   \n\n      reply_count  forward_count  topic_praise_count  topic_reply_count  \\\n0              26              0             1103466             723882   \n1              15              0                2319               7234   \n2              15              0                 646               2349   \n3              40              0             1103466             723882   \n4               8              0                6618               8078   \n...           ...            ...                 ...                ...   \n2995            2              0             1103466             723882   \n2996            6              0                6618               8078   \n2997           11              0             1103466             723882   \n2998            6              0             1103466             723882   \n2999            1              0             1103466             723882   \n\n      topic_forward_count  \n0                      30  \n1                       0  \n2                       0  \n3                      30  \n4                       0  \n...                   ...  \n2995                   30  \n2996                    0  \n2997                   30  \n2998                   30  \n2999                   30  \n\n[3000 rows x 12 columns]",
      "text/html": "<div>\n<style scoped>\n    .dataframe tbody tr th:only-of-type {\n        vertical-align: middle;\n    }\n\n    .dataframe tbody tr th {\n        vertical-align: top;\n    }\n\n    .dataframe thead th {\n        text-align: right;\n    }\n</style>\n<table border=\"1\" class=\"dataframe\">\n  <thead>\n    <tr style=\"text-align: right;\">\n      <th></th>\n      <th>content_id</th>\n      <th>content_title</th>\n      <th>desc</th>\n      <th>topic_id</th>\n      <th>topic_title</th>\n      <th>introduction</th>\n      <th>praise_count</th>\n      <th>reply_count</th>\n      <th>forward_count</th>\n      <th>topic_praise_count</th>\n      <th>topic_reply_count</th>\n      <th>topic_forward_count</th>\n    </tr>\n  </thead>\n  <tbody>\n    <tr>\n      <th>0</th>\n      <td>1</td>\n      <td>有什么可以应对焦虑的方法？</td>\n      <td>有什么可以应对焦虑的方法？</td>\n      <td>0</td>\n      <td>NaN</td>\n      <td>NaN</td>\n      <td>0</td>\n      <td>26</td>\n      <td>0</td>\n      <td>1103466</td>\n      <td>723882</td>\n      <td>30</td>\n    </tr>\n    <tr>\n      <th>1</th>\n      <td>2</td>\n      <td>我们该如何处理自己的负能量？</td>\n      <td>自己想倾诉的时候，很害怕自己的负能量会影响身边亲近的人，那么我们该如何处理自己的负能量？</td>\n      <td>240</td>\n      <td>情绪树洞</td>\n      <td>情绪没有正当、合理之说，它只是一种真实存在的体验，不管是正性情绪还是负性情绪都像是饥饿、口渴...</td>\n      <td>0</td>\n      <td>15</td>\n      <td>0</td>\n      <td>2319</td>\n      <td>7234</td>\n      <td>0</td>\n    </tr>\n    <tr>\n      <th>2</th>\n      <td>3</td>\n      <td>如何引导父母缓解他们的焦虑？</td>\n      <td>当父母逐渐老去，出现由更年期引发的一系列焦虑心态而不自知时，身为子女可以提供什么样的帮助？或...</td>\n      <td>242</td>\n      <td>你家那本难念的经</td>\n      <td>俗话说家家有本难念的经，托尔斯泰曾说过「幸福的家庭都是相同的，不幸的家庭各有各的不幸」，你家...</td>\n      <td>0</td>\n      <td>15</td>\n      <td>0</td>\n      <td>646</td>\n      <td>2349</td>\n      <td>0</td>\n    </tr>\n    <tr>\n      <th>3</th>\n      <td>4</td>\n      <td>上海的有吗</td>\n      <td>rt</td>\n      <td>0</td>\n      <td>NaN</td>\n      <td>NaN</td>\n      <td>0</td>\n      <td>40</td>\n      <td>0</td>\n      <td>1103466</td>\n      <td>723882</td>\n      <td>30</td>\n    </tr>\n    <tr>\n      <th>4</th>\n      <td>5</td>\n      <td>一起加班的时间也可以是开心的鸭</td>\n      <td>并肩作战的小伙伴们，加油呀！</td>\n      <td>190</td>\n      <td>记录美好生活的仪式感</td>\n      <td>“人是无处可逃的，每一天都是普通的一天。”仪式感却可以为这普通的一天赋予全新的意义，当无数个...</td>\n      <td>3</td>\n      <td>8</td>\n      <td>0</td>\n      <td>6618</td>\n      <td>8078</td>\n      <td>0</td>\n    </tr>\n    <tr>\n      <th>...</th>\n      <td>...</td>\n      <td>...</td>\n      <td>...</td>\n      <td>...</td>\n      <td>...</td>\n      <td>...</td>\n      <td>...</td>\n      <td>...</td>\n      <td>...</td>\n      <td>...</td>\n      <td>...</td>\n      <td>...</td>\n    </tr>\n    <tr>\n      <th>2995</th>\n      <td>2996</td>\n      <td>为什么我最近这么丧啊！！！</td>\n      <td>最近情绪很不好，总是时不时的低落难过，被孤独感包围！！！可是这种状态很讨厌啊！！！不知道咋办...</td>\n      <td>0</td>\n      <td>NaN</td>\n      <td>NaN</td>\n      <td>1</td>\n      <td>2</td>\n      <td>0</td>\n      <td>1103466</td>\n      <td>723882</td>\n      <td>30</td>\n    </tr>\n    <tr>\n      <th>2996</th>\n      <td>2997</td>\n      <td>分享今日份的武汉</td>\n      <td>白天太阳温度还算给力，穿了小半天短袖。傍晚的天空有点好看。</td>\n      <td>190</td>\n      <td>记录美好生活的仪式感</td>\n      <td>“人是无处可逃的，每一天都是普通的一天。”仪式感却可以为这普通的一天赋予全新的意义，当无数个...</td>\n      <td>2</td>\n      <td>6</td>\n      <td>0</td>\n      <td>6618</td>\n      <td>8078</td>\n      <td>0</td>\n    </tr>\n    <tr>\n      <th>2997</th>\n      <td>2998</td>\n      <td>咆哮有助于身心健康啊啊啊啊！！！</td>\n      <td>咳咳，认真地说，前几年有个小品，演的是军嫂探亲，海员说，你拳头往下握，声音就往上走出来了。其...</td>\n      <td>0</td>\n      <td>NaN</td>\n      <td>NaN</td>\n      <td>0</td>\n      <td>11</td>\n      <td>0</td>\n      <td>1103466</td>\n      <td>723882</td>\n      <td>30</td>\n    </tr>\n    <tr>\n      <th>2998</th>\n      <td>2999</td>\n      <td>我想要长胖！！！</td>\n      <td>我故意的(*Ü*)ﾉ☀不过我确实好几年体重没变化了?</td>\n      <td>0</td>\n      <td>NaN</td>\n      <td>NaN</td>\n      <td>0</td>\n      <td>6</td>\n      <td>0</td>\n      <td>1103466</td>\n      <td>723882</td>\n      <td>30</td>\n    </tr>\n    <tr>\n      <th>2999</th>\n      <td>3000</td>\n      <td>《釜山行》一部体现人性的丧尸片</td>\n      <td>一开始，每个人都有不同的原因前往釜山，并上了同一辆列车。与此同时，政府正在极力洗白丧尸肆虐的...</td>\n      <td>0</td>\n      <td>NaN</td>\n      <td>NaN</td>\n      <td>1</td>\n      <td>1</td>\n      <td>0</td>\n      <td>1103466</td>\n      <td>723882</td>\n      <td>30</td>\n    </tr>\n  </tbody>\n</table>\n<p>3000 rows × 12 columns</p>\n</div>"
     },
     "execution_count": 8,
     "metadata": {},
     "output_type": "execute_result"
    }
   ],
   "source": [
    "content_topic_cnt = pd.read_csv(os.path.join(data_dir, 'content_raw.txt'), sep='\\t', encoding='utf-8',\n",
    "                                dtype=typedict_content)\n",
    "content_topic_cnt.head(3000)"
   ],
   "metadata": {
    "collapsed": false,
    "pycharm": {
     "name": "#%%\n"
    }
   }
  },
  {
   "cell_type": "code",
   "execution_count": 3,
   "outputs": [
    {
     "data": {
      "text/plain": "      content_id                                         inter_list\n0         566840  0,1546351050930359,1577409128881237,1577721451...\n1         694645  0,1540291594230058,1541729321490327,1542120325...\n2         710976  0,1542178734365165,1542347986292683,1543896120...\n3         709828  0,1542121497367064,1542160839308008,1542166560...\n4         705559  0,1542123788232869,1565156974797376,1565177652...\n...          ...                                                ...\n2995      751860  1542124506464048,1565178796667713,157607388841...\n2996      751842  1542124506464048,1549545295357617,156501483781...\n2997      751832  1542124506464048,1542245093464181,154954506589...\n2998      752618  1542124506464048,1542356269435197,154402207560...\n2999      752593  1542124506464048,1563527853564550,156654763319...\n\n[3000 rows x 2 columns]",
      "text/html": "<div>\n<style scoped>\n    .dataframe tbody tr th:only-of-type {\n        vertical-align: middle;\n    }\n\n    .dataframe tbody tr th {\n        vertical-align: top;\n    }\n\n    .dataframe thead th {\n        text-align: right;\n    }\n</style>\n<table border=\"1\" class=\"dataframe\">\n  <thead>\n    <tr style=\"text-align: right;\">\n      <th></th>\n      <th>content_id</th>\n      <th>inter_list</th>\n    </tr>\n  </thead>\n  <tbody>\n    <tr>\n      <th>0</th>\n      <td>566840</td>\n      <td>0,1546351050930359,1577409128881237,1577721451...</td>\n    </tr>\n    <tr>\n      <th>1</th>\n      <td>694645</td>\n      <td>0,1540291594230058,1541729321490327,1542120325...</td>\n    </tr>\n    <tr>\n      <th>2</th>\n      <td>710976</td>\n      <td>0,1542178734365165,1542347986292683,1543896120...</td>\n    </tr>\n    <tr>\n      <th>3</th>\n      <td>709828</td>\n      <td>0,1542121497367064,1542160839308008,1542166560...</td>\n    </tr>\n    <tr>\n      <th>4</th>\n      <td>705559</td>\n      <td>0,1542123788232869,1565156974797376,1565177652...</td>\n    </tr>\n    <tr>\n      <th>...</th>\n      <td>...</td>\n      <td>...</td>\n    </tr>\n    <tr>\n      <th>2995</th>\n      <td>751860</td>\n      <td>1542124506464048,1565178796667713,157607388841...</td>\n    </tr>\n    <tr>\n      <th>2996</th>\n      <td>751842</td>\n      <td>1542124506464048,1549545295357617,156501483781...</td>\n    </tr>\n    <tr>\n      <th>2997</th>\n      <td>751832</td>\n      <td>1542124506464048,1542245093464181,154954506589...</td>\n    </tr>\n    <tr>\n      <th>2998</th>\n      <td>752618</td>\n      <td>1542124506464048,1542356269435197,154402207560...</td>\n    </tr>\n    <tr>\n      <th>2999</th>\n      <td>752593</td>\n      <td>1542124506464048,1563527853564550,156654763319...</td>\n    </tr>\n  </tbody>\n</table>\n<p>3000 rows × 2 columns</p>\n</div>"
     },
     "execution_count": 3,
     "metadata": {},
     "output_type": "execute_result"
    }
   ],
   "source": [
    "content_inter = pd.read_csv(os.path.join(data_dir, 'inter_list.txt'), sep='\\t', encoding='utf-8',\n",
    "                            dtype=typedict_content_inter)\n",
    "content_inter.head(3000)"
   ],
   "metadata": {
    "collapsed": false,
    "pycharm": {
     "name": "#%%\n"
    }
   }
  },
  {
   "cell_type": "code",
   "execution_count": 5,
   "outputs": [
    {
     "data": {
      "text/plain": "     user_id                                       content_list content_num\n0          0  566840,694645,710976,709828,705559,681382,7014...           0\n1          0  566840,694645,710976,709828,705559,681382,7014...           0\n2          0  566840,694645,710976,709828,705559,681382,7014...           0\n3          0  566840,694645,710976,709828,705559,681382,7014...           0\n4          0  566840,694645,710976,709828,705559,681382,7014...           0\n..       ...                                                ...         ...\n995        0  566840,694645,710976,709828,705559,681382,7014...           0\n996        0  566840,694645,710976,709828,705559,681382,7014...           0\n997        0  566840,694645,710976,709828,705559,681382,7014...           0\n998        0  566840,694645,710976,709828,705559,681382,7014...           0\n999        0  566840,694645,710976,709828,705559,681382,7014...           0\n\n[1000 rows x 3 columns]",
      "text/html": "<div>\n<style scoped>\n    .dataframe tbody tr th:only-of-type {\n        vertical-align: middle;\n    }\n\n    .dataframe tbody tr th {\n        vertical-align: top;\n    }\n\n    .dataframe thead th {\n        text-align: right;\n    }\n</style>\n<table border=\"1\" class=\"dataframe\">\n  <thead>\n    <tr style=\"text-align: right;\">\n      <th></th>\n      <th>user_id</th>\n      <th>content_list</th>\n      <th>content_num</th>\n    </tr>\n  </thead>\n  <tbody>\n    <tr>\n      <th>0</th>\n      <td>0</td>\n      <td>566840,694645,710976,709828,705559,681382,7014...</td>\n      <td>0</td>\n    </tr>\n    <tr>\n      <th>1</th>\n      <td>0</td>\n      <td>566840,694645,710976,709828,705559,681382,7014...</td>\n      <td>0</td>\n    </tr>\n    <tr>\n      <th>2</th>\n      <td>0</td>\n      <td>566840,694645,710976,709828,705559,681382,7014...</td>\n      <td>0</td>\n    </tr>\n    <tr>\n      <th>3</th>\n      <td>0</td>\n      <td>566840,694645,710976,709828,705559,681382,7014...</td>\n      <td>0</td>\n    </tr>\n    <tr>\n      <th>4</th>\n      <td>0</td>\n      <td>566840,694645,710976,709828,705559,681382,7014...</td>\n      <td>0</td>\n    </tr>\n    <tr>\n      <th>...</th>\n      <td>...</td>\n      <td>...</td>\n      <td>...</td>\n    </tr>\n    <tr>\n      <th>995</th>\n      <td>0</td>\n      <td>566840,694645,710976,709828,705559,681382,7014...</td>\n      <td>0</td>\n    </tr>\n    <tr>\n      <th>996</th>\n      <td>0</td>\n      <td>566840,694645,710976,709828,705559,681382,7014...</td>\n      <td>0</td>\n    </tr>\n    <tr>\n      <th>997</th>\n      <td>0</td>\n      <td>566840,694645,710976,709828,705559,681382,7014...</td>\n      <td>0</td>\n    </tr>\n    <tr>\n      <th>998</th>\n      <td>0</td>\n      <td>566840,694645,710976,709828,705559,681382,7014...</td>\n      <td>0</td>\n    </tr>\n    <tr>\n      <th>999</th>\n      <td>0</td>\n      <td>566840,694645,710976,709828,705559,681382,7014...</td>\n      <td>0</td>\n    </tr>\n  </tbody>\n</table>\n<p>1000 rows × 3 columns</p>\n</div>"
     },
     "execution_count": 5,
     "metadata": {},
     "output_type": "execute_result"
    }
   ],
   "source": [
    "content_list = pd.read_csv(os.path.join(data_dir, 'content_with_interlist.txt'), sep='\\t', encoding='utf-8',\n",
    "                           dtype=typedict_content_list)"
   ],
   "metadata": {
    "collapsed": false,
    "pycharm": {
     "name": "#%%\n"
    }
   }
  },
  {
   "cell_type": "code",
   "execution_count": 21,
   "outputs": [],
   "source": [
    "content = pd.read_csv(os.path.join(data_dir, 'content.txt'), sep='\\t', encoding='utf-8',\n",
    "                           dtype=typedict_content)"
   ],
   "metadata": {
    "collapsed": false,
    "pycharm": {
     "name": "#%%\n"
    }
   }
  },
  {
   "cell_type": "code",
   "execution_count": 22,
   "outputs": [
    {
     "data": {
      "text/plain": "   content_id    content_title  \\\n0           1    有什么可以应对焦虑的方法？   \n1           2   我们该如何处理自己的负能量？   \n2           3   如何引导父母缓解他们的焦虑？   \n3           4            上海的有吗   \n4           5  一起加班的时间也可以是开心的鸭   \n\n                                                desc  topic_id topic_title  \\\n0                                      有什么可以应对焦虑的方法？         0         NaN   \n1       自己想倾诉的时候，很害怕自己的负能量会影响身边亲近的人，那么我们该如何处理自己的负能量？       240        情绪树洞   \n2  当父母逐渐老去，出现由更年期引发的一系列焦虑心态而不自知时，身为子女可以提供什么样的帮助？或...       242    你家那本难念的经   \n3                                                 rt         0         NaN   \n4                                     并肩作战的小伙伴们，加油呀！       190  记录美好生活的仪式感   \n\n                                        introduction  praise_count  \\\n0                                                NaN             0   \n1  情绪没有正当、合理之说，它只是一种真实存在的体验，不管是正性情绪还是负性情绪都像是饥饿、口渴...             0   \n2  俗话说家家有本难念的经，托尔斯泰曾说过「幸福的家庭都是相同的，不幸的家庭各有各的不幸」，你家...             0   \n3                                                NaN             0   \n4  “人是无处可逃的，每一天都是普通的一天。”仪式感却可以为这普通的一天赋予全新的意义，当无数个...             3   \n\n   reply_count  forward_count  topic_praise_count  topic_reply_count  \\\n0           26              0             1103466             723882   \n1           15              0                2319               7234   \n2           15              0                 646               2349   \n3           40              0             1103466             723882   \n4            8              0                6618               8078   \n\n   topic_forward_count inter_list  \n0                   30        NaN  \n1                    0        NaN  \n2                    0        NaN  \n3                   30        NaN  \n4                    0        NaN  ",
      "text/html": "<div>\n<style scoped>\n    .dataframe tbody tr th:only-of-type {\n        vertical-align: middle;\n    }\n\n    .dataframe tbody tr th {\n        vertical-align: top;\n    }\n\n    .dataframe thead th {\n        text-align: right;\n    }\n</style>\n<table border=\"1\" class=\"dataframe\">\n  <thead>\n    <tr style=\"text-align: right;\">\n      <th></th>\n      <th>content_id</th>\n      <th>content_title</th>\n      <th>desc</th>\n      <th>topic_id</th>\n      <th>topic_title</th>\n      <th>introduction</th>\n      <th>praise_count</th>\n      <th>reply_count</th>\n      <th>forward_count</th>\n      <th>topic_praise_count</th>\n      <th>topic_reply_count</th>\n      <th>topic_forward_count</th>\n      <th>inter_list</th>\n    </tr>\n  </thead>\n  <tbody>\n    <tr>\n      <th>0</th>\n      <td>1</td>\n      <td>有什么可以应对焦虑的方法？</td>\n      <td>有什么可以应对焦虑的方法？</td>\n      <td>0</td>\n      <td>NaN</td>\n      <td>NaN</td>\n      <td>0</td>\n      <td>26</td>\n      <td>0</td>\n      <td>1103466</td>\n      <td>723882</td>\n      <td>30</td>\n      <td>NaN</td>\n    </tr>\n    <tr>\n      <th>1</th>\n      <td>2</td>\n      <td>我们该如何处理自己的负能量？</td>\n      <td>自己想倾诉的时候，很害怕自己的负能量会影响身边亲近的人，那么我们该如何处理自己的负能量？</td>\n      <td>240</td>\n      <td>情绪树洞</td>\n      <td>情绪没有正当、合理之说，它只是一种真实存在的体验，不管是正性情绪还是负性情绪都像是饥饿、口渴...</td>\n      <td>0</td>\n      <td>15</td>\n      <td>0</td>\n      <td>2319</td>\n      <td>7234</td>\n      <td>0</td>\n      <td>NaN</td>\n    </tr>\n    <tr>\n      <th>2</th>\n      <td>3</td>\n      <td>如何引导父母缓解他们的焦虑？</td>\n      <td>当父母逐渐老去，出现由更年期引发的一系列焦虑心态而不自知时，身为子女可以提供什么样的帮助？或...</td>\n      <td>242</td>\n      <td>你家那本难念的经</td>\n      <td>俗话说家家有本难念的经，托尔斯泰曾说过「幸福的家庭都是相同的，不幸的家庭各有各的不幸」，你家...</td>\n      <td>0</td>\n      <td>15</td>\n      <td>0</td>\n      <td>646</td>\n      <td>2349</td>\n      <td>0</td>\n      <td>NaN</td>\n    </tr>\n    <tr>\n      <th>3</th>\n      <td>4</td>\n      <td>上海的有吗</td>\n      <td>rt</td>\n      <td>0</td>\n      <td>NaN</td>\n      <td>NaN</td>\n      <td>0</td>\n      <td>40</td>\n      <td>0</td>\n      <td>1103466</td>\n      <td>723882</td>\n      <td>30</td>\n      <td>NaN</td>\n    </tr>\n    <tr>\n      <th>4</th>\n      <td>5</td>\n      <td>一起加班的时间也可以是开心的鸭</td>\n      <td>并肩作战的小伙伴们，加油呀！</td>\n      <td>190</td>\n      <td>记录美好生活的仪式感</td>\n      <td>“人是无处可逃的，每一天都是普通的一天。”仪式感却可以为这普通的一天赋予全新的意义，当无数个...</td>\n      <td>3</td>\n      <td>8</td>\n      <td>0</td>\n      <td>6618</td>\n      <td>8078</td>\n      <td>0</td>\n      <td>NaN</td>\n    </tr>\n  </tbody>\n</table>\n</div>"
     },
     "execution_count": 22,
     "metadata": {},
     "output_type": "execute_result"
    }
   ],
   "source": [
    "content.head()"
   ],
   "metadata": {
    "collapsed": false,
    "pycharm": {
     "name": "#%%\n"
    }
   }
  },
  {
   "cell_type": "code",
   "execution_count": 2,
   "outputs": [
    {
     "name": "stderr",
     "output_type": "stream",
     "text": [
      "/Users/starry/conda/envs/local/lib/python3.8/site-packages/IPython/core/interactiveshell.py:3444: FutureWarning: The error_bad_lines argument has been deprecated and will be removed in a future version.\n",
      "\n",
      "\n",
      "  exec(code_obj, self.user_global_ns, self.user_ns)\n",
      "/Users/starry/conda/envs/local/lib/python3.8/site-packages/IPython/core/interactiveshell.py:3444: DtypeWarning: Columns (11) have mixed types.Specify dtype option on import or set low_memory=False.\n",
      "  exec(code_obj, self.user_global_ns, self.user_ns)\n"
     ]
    }
   ],
   "source": [],
   "metadata": {
    "collapsed": false,
    "pycharm": {
     "name": "#%%\n"
    }
   }
  },
  {
   "cell_type": "code",
   "execution_count": 15,
   "outputs": [
    {
     "name": "stderr",
     "output_type": "stream",
     "text": [
      "/Users/starry/conda/envs/local/lib/python3.8/site-packages/IPython/core/interactiveshell.py:3444: DtypeWarning: Columns (3,17,19,23,31) have mixed types.Specify dtype option on import or set low_memory=False.\n",
      "  exec(code_obj, self.user_global_ns, self.user_ns)\n"
     ]
    }
   ],
   "source": [
    "import os\n",
    "\n",
    "import pandas as pd\n",
    "\n",
    "from logger import Logger\n",
    "\n",
    "data_path = os.path.join(os.path.dirname(os.getcwd()), 'data', '0315')\n",
    "output_path = os.path.join(os.path.dirname(os.getcwd()), 'dataset')\n",
    "if not os.path.exists(data_path):\n",
    "    os.mkdir(data_path)\n",
    "if not os.path.exists(output_path):\n",
    "    os.mkdir(output_path)\n",
    "\n",
    "log = Logger(\"user\").getLogger()\n",
    "\n",
    "user = pd.read_csv(os.path.join(data_path, '用户.csv'), sep=',', encoding='utf-8', header=0)\n",
    "df = pd.DataFrame(user, columns=['id', 'sex', 'zan_count'])\n",
    "df['id'] = pd.to_numeric(df['id']).fillna('0').astype('int64')\n",
    "df['sex'] = pd.to_numeric(df['sex']).fillna('0').astype('int64')\n",
    "df['zan_count'] = pd.to_numeric(df['zan_count']).fillna('0').astype('int64')\n",
    "\n",
    "#  = df['sex'].astype('int64')\n",
    "# df['zan_count'] = df['zan_count'].astype('int64')\n",
    "df.to_csv(os.path.join(output_path, 'user.txt'), sep='\\t', encoding='utf-8', index=False)"
   ],
   "metadata": {
    "collapsed": false,
    "pycharm": {
     "name": "#%%\n"
    }
   }
  },
  {
   "cell_type": "code",
   "execution_count": null,
   "outputs": [],
   "source": [],
   "metadata": {
    "collapsed": false,
    "pycharm": {
     "name": "#%%\n"
    }
   }
  }
 ],
 "metadata": {
  "kernelspec": {
   "display_name": "Python 3",
   "language": "python",
   "name": "python3"
  },
  "language_info": {
   "codemirror_mode": {
    "name": "ipython",
    "version": 2
   },
   "file_extension": ".py",
   "mimetype": "text/x-python",
   "name": "python",
   "nbconvert_exporter": "python",
   "pygments_lexer": "ipython2",
   "version": "2.7.6"
  }
 },
 "nbformat": 4,
 "nbformat_minor": 0
}