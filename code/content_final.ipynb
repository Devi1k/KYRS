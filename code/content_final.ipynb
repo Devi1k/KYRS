{
 "cells": [
  {
   "cell_type": "code",
   "execution_count": 3,
   "metadata": {
    "collapsed": true
   },
   "outputs": [
    {
     "name": "stderr",
     "output_type": "stream",
     "text": [
      "/Users/starry/conda/envs/local/lib/python3.8/site-packages/IPython/core/interactiveshell.py:3444: FutureWarning: The error_bad_lines argument has been deprecated and will be removed in a future version.\n",
      "\n",
      "\n",
      "  exec(code_obj, self.user_global_ns, self.user_ns)\n"
     ]
    }
   ],
   "source": [
    "import pandas as pd\n",
    "import os\n",
    "dataset_path = os.path.join(os.path.dirname(os.getcwd()), 'dataset')\n",
    "data_path = os.path.join(os.path.dirname(os.getcwd()), 'data')\n",
    "content_raw = pd.read_csv(os.path.join(data_path, '帖子.csv'), sep=',', error_bad_lines=False, encoding='utf-8', header=0)\n",
    "content_raw.rename(columns={'id': 'content_id'}, inplace=True)"
   ]
  },
  {
   "cell_type": "code",
   "execution_count": 4,
   "outputs": [],
   "source": [
    "typedict_content = {'content_id': int, 'content_title': object, 'desc': object, 'topic_id': int, 'topic_title': object,\n",
    "                    'introduction': object, 'praise_count': int, 'reply_count': int,\n",
    "                    'forward_count': int,\n",
    "                    'topic_praise_count': int,\n",
    "                    'topic_reply_count': int,\n",
    "                    'topic_forward_count': int, 'inter_list': object}\n",
    "content = pd.read_csv(os.path.join(dataset_path, 'content.txt'), sep='\\t', encoding='utf-8',\n",
    "                           dtype=typedict_content)"
   ],
   "metadata": {
    "collapsed": false,
    "pycharm": {
     "name": "#%%\n"
    }
   }
  },
  {
   "cell_type": "code",
   "execution_count": 5,
   "outputs": [],
   "source": [
    "content_time = content_raw[['content_id','create_time']]"
   ],
   "metadata": {
    "collapsed": false,
    "pycharm": {
     "name": "#%%\n"
    }
   }
  },
  {
   "cell_type": "code",
   "execution_count": 6,
   "outputs": [],
   "source": [
    "content_final = pd.merge(content,content_time,on='content_id',how='left')"
   ],
   "metadata": {
    "collapsed": false,
    "pycharm": {
     "name": "#%%\n"
    }
   }
  },
  {
   "cell_type": "code",
   "execution_count": 7,
   "outputs": [
    {
     "data": {
      "text/plain": "   content_id    content_title  \\\n0           1    有什么可以应对焦虑的方法？   \n1           2   我们该如何处理自己的负能量？   \n2           3   如何引导父母缓解他们的焦虑？   \n3           4            上海的有吗   \n4           5  一起加班的时间也可以是开心的鸭   \n\n                                                desc  topic_id topic_title  \\\n0                                      有什么可以应对焦虑的方法？         0         NaN   \n1       自己想倾诉的时候，很害怕自己的负能量会影响身边亲近的人，那么我们该如何处理自己的负能量？       240        情绪树洞   \n2  当父母逐渐老去，出现由更年期引发的一系列焦虑心态而不自知时，身为子女可以提供什么样的帮助？或...       242    你家那本难念的经   \n3                                                 rt         0         NaN   \n4                                     并肩作战的小伙伴们，加油呀！       190  记录美好生活的仪式感   \n\n                                        introduction  praise_count  \\\n0                                                NaN             0   \n1  情绪没有正当、合理之说，它只是一种真实存在的体验，不管是正性情绪还是负性情绪都像是饥饿、口渴...             0   \n2  俗话说家家有本难念的经，托尔斯泰曾说过「幸福的家庭都是相同的，不幸的家庭各有各的不幸」，你家...             0   \n3                                                NaN             0   \n4  “人是无处可逃的，每一天都是普通的一天。”仪式感却可以为这普通的一天赋予全新的意义，当无数个...             3   \n\n   reply_count  forward_count  topic_praise_count  topic_reply_count  \\\n0           26              0             1103466             723882   \n1           15              0                2319               7234   \n2           15              0                 646               2349   \n3           40              0             1103466             723882   \n4            8              0                6618               8078   \n\n   topic_forward_count inter_list  \n0                   30        NaN  \n1                    0        NaN  \n2                    0        NaN  \n3                   30        NaN  \n4                    0        NaN  ",
      "text/html": "<div>\n<style scoped>\n    .dataframe tbody tr th:only-of-type {\n        vertical-align: middle;\n    }\n\n    .dataframe tbody tr th {\n        vertical-align: top;\n    }\n\n    .dataframe thead th {\n        text-align: right;\n    }\n</style>\n<table border=\"1\" class=\"dataframe\">\n  <thead>\n    <tr style=\"text-align: right;\">\n      <th></th>\n      <th>content_id</th>\n      <th>content_title</th>\n      <th>desc</th>\n      <th>topic_id</th>\n      <th>topic_title</th>\n      <th>introduction</th>\n      <th>praise_count</th>\n      <th>reply_count</th>\n      <th>forward_count</th>\n      <th>topic_praise_count</th>\n      <th>topic_reply_count</th>\n      <th>topic_forward_count</th>\n      <th>inter_list</th>\n    </tr>\n  </thead>\n  <tbody>\n    <tr>\n      <th>0</th>\n      <td>1</td>\n      <td>有什么可以应对焦虑的方法？</td>\n      <td>有什么可以应对焦虑的方法？</td>\n      <td>0</td>\n      <td>NaN</td>\n      <td>NaN</td>\n      <td>0</td>\n      <td>26</td>\n      <td>0</td>\n      <td>1103466</td>\n      <td>723882</td>\n      <td>30</td>\n      <td>NaN</td>\n    </tr>\n    <tr>\n      <th>1</th>\n      <td>2</td>\n      <td>我们该如何处理自己的负能量？</td>\n      <td>自己想倾诉的时候，很害怕自己的负能量会影响身边亲近的人，那么我们该如何处理自己的负能量？</td>\n      <td>240</td>\n      <td>情绪树洞</td>\n      <td>情绪没有正当、合理之说，它只是一种真实存在的体验，不管是正性情绪还是负性情绪都像是饥饿、口渴...</td>\n      <td>0</td>\n      <td>15</td>\n      <td>0</td>\n      <td>2319</td>\n      <td>7234</td>\n      <td>0</td>\n      <td>NaN</td>\n    </tr>\n    <tr>\n      <th>2</th>\n      <td>3</td>\n      <td>如何引导父母缓解他们的焦虑？</td>\n      <td>当父母逐渐老去，出现由更年期引发的一系列焦虑心态而不自知时，身为子女可以提供什么样的帮助？或...</td>\n      <td>242</td>\n      <td>你家那本难念的经</td>\n      <td>俗话说家家有本难念的经，托尔斯泰曾说过「幸福的家庭都是相同的，不幸的家庭各有各的不幸」，你家...</td>\n      <td>0</td>\n      <td>15</td>\n      <td>0</td>\n      <td>646</td>\n      <td>2349</td>\n      <td>0</td>\n      <td>NaN</td>\n    </tr>\n    <tr>\n      <th>3</th>\n      <td>4</td>\n      <td>上海的有吗</td>\n      <td>rt</td>\n      <td>0</td>\n      <td>NaN</td>\n      <td>NaN</td>\n      <td>0</td>\n      <td>40</td>\n      <td>0</td>\n      <td>1103466</td>\n      <td>723882</td>\n      <td>30</td>\n      <td>NaN</td>\n    </tr>\n    <tr>\n      <th>4</th>\n      <td>5</td>\n      <td>一起加班的时间也可以是开心的鸭</td>\n      <td>并肩作战的小伙伴们，加油呀！</td>\n      <td>190</td>\n      <td>记录美好生活的仪式感</td>\n      <td>“人是无处可逃的，每一天都是普通的一天。”仪式感却可以为这普通的一天赋予全新的意义，当无数个...</td>\n      <td>3</td>\n      <td>8</td>\n      <td>0</td>\n      <td>6618</td>\n      <td>8078</td>\n      <td>0</td>\n      <td>NaN</td>\n    </tr>\n  </tbody>\n</table>\n</div>"
     },
     "execution_count": 7,
     "metadata": {},
     "output_type": "execute_result"
    }
   ],
   "source": [
    "content.head()"
   ],
   "metadata": {
    "collapsed": false,
    "pycharm": {
     "name": "#%%\n"
    }
   }
  },
  {
   "cell_type": "code",
   "execution_count": 8,
   "outputs": [
    {
     "data": {
      "text/plain": "   content_id    content_title  \\\n0           1    有什么可以应对焦虑的方法？   \n1           2   我们该如何处理自己的负能量？   \n2           3   如何引导父母缓解他们的焦虑？   \n3           4            上海的有吗   \n4           5  一起加班的时间也可以是开心的鸭   \n\n                                                desc  topic_id topic_title  \\\n0                                      有什么可以应对焦虑的方法？         0         NaN   \n1       自己想倾诉的时候，很害怕自己的负能量会影响身边亲近的人，那么我们该如何处理自己的负能量？       240        情绪树洞   \n2  当父母逐渐老去，出现由更年期引发的一系列焦虑心态而不自知时，身为子女可以提供什么样的帮助？或...       242    你家那本难念的经   \n3                                                 rt         0         NaN   \n4                                     并肩作战的小伙伴们，加油呀！       190  记录美好生活的仪式感   \n\n                                        introduction  praise_count  \\\n0                                                NaN             0   \n1  情绪没有正当、合理之说，它只是一种真实存在的体验，不管是正性情绪还是负性情绪都像是饥饿、口渴...             0   \n2  俗话说家家有本难念的经，托尔斯泰曾说过「幸福的家庭都是相同的，不幸的家庭各有各的不幸」，你家...             0   \n3                                                NaN             0   \n4  “人是无处可逃的，每一天都是普通的一天。”仪式感却可以为这普通的一天赋予全新的意义，当无数个...             3   \n\n   reply_count  forward_count  topic_praise_count  topic_reply_count  \\\n0           26              0             1103466             723882   \n1           15              0                2319               7234   \n2           15              0                 646               2349   \n3           40              0             1103466             723882   \n4            8              0                6618               8078   \n\n   topic_forward_count inter_list  create_time  \n0                   30        NaN   1544615105  \n1                    0        NaN   1544615273  \n2                    0        NaN   1544616090  \n3                   30        NaN   1544617595  \n4                    0        NaN   1544617638  ",
      "text/html": "<div>\n<style scoped>\n    .dataframe tbody tr th:only-of-type {\n        vertical-align: middle;\n    }\n\n    .dataframe tbody tr th {\n        vertical-align: top;\n    }\n\n    .dataframe thead th {\n        text-align: right;\n    }\n</style>\n<table border=\"1\" class=\"dataframe\">\n  <thead>\n    <tr style=\"text-align: right;\">\n      <th></th>\n      <th>content_id</th>\n      <th>content_title</th>\n      <th>desc</th>\n      <th>topic_id</th>\n      <th>topic_title</th>\n      <th>introduction</th>\n      <th>praise_count</th>\n      <th>reply_count</th>\n      <th>forward_count</th>\n      <th>topic_praise_count</th>\n      <th>topic_reply_count</th>\n      <th>topic_forward_count</th>\n      <th>inter_list</th>\n      <th>create_time</th>\n    </tr>\n  </thead>\n  <tbody>\n    <tr>\n      <th>0</th>\n      <td>1</td>\n      <td>有什么可以应对焦虑的方法？</td>\n      <td>有什么可以应对焦虑的方法？</td>\n      <td>0</td>\n      <td>NaN</td>\n      <td>NaN</td>\n      <td>0</td>\n      <td>26</td>\n      <td>0</td>\n      <td>1103466</td>\n      <td>723882</td>\n      <td>30</td>\n      <td>NaN</td>\n      <td>1544615105</td>\n    </tr>\n    <tr>\n      <th>1</th>\n      <td>2</td>\n      <td>我们该如何处理自己的负能量？</td>\n      <td>自己想倾诉的时候，很害怕自己的负能量会影响身边亲近的人，那么我们该如何处理自己的负能量？</td>\n      <td>240</td>\n      <td>情绪树洞</td>\n      <td>情绪没有正当、合理之说，它只是一种真实存在的体验，不管是正性情绪还是负性情绪都像是饥饿、口渴...</td>\n      <td>0</td>\n      <td>15</td>\n      <td>0</td>\n      <td>2319</td>\n      <td>7234</td>\n      <td>0</td>\n      <td>NaN</td>\n      <td>1544615273</td>\n    </tr>\n    <tr>\n      <th>2</th>\n      <td>3</td>\n      <td>如何引导父母缓解他们的焦虑？</td>\n      <td>当父母逐渐老去，出现由更年期引发的一系列焦虑心态而不自知时，身为子女可以提供什么样的帮助？或...</td>\n      <td>242</td>\n      <td>你家那本难念的经</td>\n      <td>俗话说家家有本难念的经，托尔斯泰曾说过「幸福的家庭都是相同的，不幸的家庭各有各的不幸」，你家...</td>\n      <td>0</td>\n      <td>15</td>\n      <td>0</td>\n      <td>646</td>\n      <td>2349</td>\n      <td>0</td>\n      <td>NaN</td>\n      <td>1544616090</td>\n    </tr>\n    <tr>\n      <th>3</th>\n      <td>4</td>\n      <td>上海的有吗</td>\n      <td>rt</td>\n      <td>0</td>\n      <td>NaN</td>\n      <td>NaN</td>\n      <td>0</td>\n      <td>40</td>\n      <td>0</td>\n      <td>1103466</td>\n      <td>723882</td>\n      <td>30</td>\n      <td>NaN</td>\n      <td>1544617595</td>\n    </tr>\n    <tr>\n      <th>4</th>\n      <td>5</td>\n      <td>一起加班的时间也可以是开心的鸭</td>\n      <td>并肩作战的小伙伴们，加油呀！</td>\n      <td>190</td>\n      <td>记录美好生活的仪式感</td>\n      <td>“人是无处可逃的，每一天都是普通的一天。”仪式感却可以为这普通的一天赋予全新的意义，当无数个...</td>\n      <td>3</td>\n      <td>8</td>\n      <td>0</td>\n      <td>6618</td>\n      <td>8078</td>\n      <td>0</td>\n      <td>NaN</td>\n      <td>1544617638</td>\n    </tr>\n  </tbody>\n</table>\n</div>"
     },
     "execution_count": 8,
     "metadata": {},
     "output_type": "execute_result"
    }
   ],
   "source": [
    "content_final.head()"
   ],
   "metadata": {
    "collapsed": false,
    "pycharm": {
     "name": "#%%\n"
    }
   }
  },
  {
   "cell_type": "code",
   "execution_count": 9,
   "outputs": [],
   "source": [
    "content_final.to_csv(os.path.join(dataset_path, 'content.txt'), sep='\\t', encoding='utf-8', index=False)"
   ],
   "metadata": {
    "collapsed": false,
    "pycharm": {
     "name": "#%%\n"
    }
   }
  },
  {
   "cell_type": "code",
   "execution_count": null,
   "outputs": [],
   "source": [],
   "metadata": {
    "collapsed": false,
    "pycharm": {
     "name": "#%%\n"
    }
   }
  }
 ],
 "metadata": {
  "kernelspec": {
   "display_name": "Python 3",
   "language": "python",
   "name": "python3"
  },
  "language_info": {
   "codemirror_mode": {
    "name": "ipython",
    "version": 2
   },
   "file_extension": ".py",
   "mimetype": "text/x-python",
   "name": "python",
   "nbconvert_exporter": "python",
   "pygments_lexer": "ipython2",
   "version": "2.7.6"
  }
 },
 "nbformat": 4,
 "nbformat_minor": 0
}