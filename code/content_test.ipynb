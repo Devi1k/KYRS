{
 "cells": [
  {
   "cell_type": "code",
   "execution_count": null,
   "metadata": {
    "collapsed": true
   },
   "outputs": [],
   "source": []
  },
  {
   "cell_type": "code",
   "execution_count": 2,
   "outputs": [],
   "source": [
    "import pandas as pd\n",
    "import warnings\n",
    "\n",
    "warnings.filterwarnings(\"ignore\")\n",
    "content = pd.read_csv('../data/帖子.csv', sep=',', error_bad_lines=False, encoding='utf-8', header=0)\n",
    "topic = pd.read_csv('../data/话题.csv', sep=',', error_bad_lines=False, encoding='utf-8', header=0)\n",
    "content.rename(columns={'subject_id': 'topic_id'}, inplace=True)\n",
    "\n",
    "concat = pd.merge(content, topic, on='topic_id', how='left')\n",
    "df1 = concat.drop(['group_id', 'user_id', 'type', 'topic_type',\n",
    "                   'status_x', 'common_praise_count',\n",
    "                   'hug_count', 'touch_count', 'hand_num',\n",
    "                   'reply_user_count', 'star_count', 'read_count', 'share_count', 'uv_x', 'reason', 'image', 'images',\n",
    "                   'reply_time',\n",
    "                   'top_time', 'weight_x', 'week_weight', 'month_weight', 'hot_weight',\n",
    "                   'is_show', 'is_plan', 'biz_content', 'online_time_x', 'pick_time',\n",
    "                   'weight_json', 'anonymous', 'link_topic_id', 'linked_topic_count',\n",
    "                   'create_time_x', 'update_time_x', 'genre_id', 'extra_contents', 'tag', 'is_vote', 'vote',\n",
    "                   'sort', 'star_num',\n",
    "                   'topic_num', 'last_pick_time', 'pick_count', 'uv_y', 'pv', 'status_y',\n",
    "                   'btime', 'etime', 'clock_id', 'weight_y', 'tool_entrance',\n",
    "                   'tool_entrances', 'online_time_y', 'create_time_y', 'update_time_y'], axis=1)\n",
    "df1 = df1.rename(columns={'title_x': 'content_title', 'title_y': 'topic_title'})"
   ],
   "metadata": {
    "collapsed": false,
    "pycharm": {
     "name": "#%%\n"
    }
   }
  },
  {
   "cell_type": "code",
   "execution_count": 12,
   "outputs": [],
   "source": [
    "df = df1[['id', 'content_title', 'desc', 'topic_id', 'topic_title', 'introduction', 'praise_count', 'reply_count',\n",
    "          'forward_count']]\n",
    "\n",
    "# df = df.head(10000)\n",
    "def process1(desc):\n",
    "    try:\n",
    "        return desc.replace('\\n', '').replace('\\r', '').replace(' ', '')\n",
    "    except AttributeError:\n",
    "        return None\n",
    "\n",
    "\n",
    "df['desc'] = df['desc'].apply(process1)\n",
    "df['introduction'] = df['introduction'].apply(process1)\n",
    "df['content_title'] = df['content_title'].apply(process1)\n",
    "df['topic_title'] = df['topic_title'].apply(process1)\n",
    "\n",
    "\n",
    "df.rename(columns={'id': 'content_id'}, inplace=True)\n",
    "# df2.to_csv('./data/content.txt', sep='\\t', encoding='utf-8', index=False)\n",
    "\n"
   ],
   "metadata": {
    "collapsed": false,
    "pycharm": {
     "name": "#%%\n"
    }
   }
  },
  {
   "cell_type": "code",
   "execution_count": 7,
   "outputs": [
    {
     "name": "stdout",
     "output_type": "stream",
     "text": [
      "CPU times: user 3.63 s, sys: 27.4 ms, total: 3.66 s\n",
      "Wall time: 3.73 s\n"
     ]
    }
   ],
   "source": [
    "%%time\n",
    "def count_praise(topic_id):\n",
    "    topic_praise_count = df.loc[(df.topic_id == topic_id), 'praise_count'].sum()\n",
    "    return topic_praise_count\n",
    "def count_reply(topic_id):\n",
    "    topic_reply_count = df.loc[(df.topic_id == topic_id), 'reply_count'].sum()\n",
    "    return topic_reply_count\n",
    "def count_forward(topic_id):\n",
    "    topic_forward_count = df.loc[(df.topic_id == topic_id), 'forward_count'].sum()\n",
    "    return topic_forward_count\n",
    "\n",
    "df['topic_praise_count'] = df.apply(lambda row: count_praise(row['topic_id']), axis=1)\n",
    "df['topic_reply_count'] = df.apply(lambda row: count_reply(row['topic_id']), axis=1)\n",
    "df['topic_forward_count'] = df.apply(lambda row: count_forward(row['topic_id']), axis=1)\n",
    "# df['topic_praise_count'], df['topic_reply_count'], df['topic_forward_count'] = count_num(df['topic_id'].values)"
   ],
   "metadata": {
    "collapsed": false,
    "pycharm": {
     "name": "#%%\n"
    }
   }
  },
  {
   "cell_type": "code",
   "execution_count": 11,
   "outputs": [
    {
     "data": {
      "text/plain": "      content_id    content_title  \\\n0              1    有什么可以应对焦虑的方法？   \n1              2   我们该如何处理自己的负能量？   \n2              3   如何引导父母缓解他们的焦虑？   \n3              4            上海的有吗   \n4              5  一起加班的时间也可以是开心的鸭   \n...          ...              ...   \n9995        9996          吃晚饭再返工~   \n9996        9997      怎么才能建立强大的内心   \n9997        9998          电影《寄生虫》   \n9998        9999            ?????   \n9999       10000             None   \n\n                                                   desc  topic_id topic_title  \\\n0                                         有什么可以应对焦虑的方法？         0        None   \n1          自己想倾诉的时候，很害怕自己的负能量会影响身边亲近的人，那么我们该如何处理自己的负能量？       240        情绪树洞   \n2     当父母逐渐老去，出现由更年期引发的一系列焦虑心态而不自知时，身为子女可以提供什么样的帮助？或...       242    你家那本难念的经   \n3                                                    rt         0        None   \n4                                        并肩作战的小伙伴们，加油呀！       190  记录美好生活的仪式感   \n...                                                 ...       ...         ...   \n9995                         好风景多的是/夕阳平常事/然而每天眼见的/永远不相似         0        None   \n9996  能够遇到难过的事情不那么难过，依然保持对生活的热情，依然积极向上，一切向前看？有一起打卡一起...         0        None   \n9997  是部很棒的电影。只是因为知道导演之前拍过《雪国列车》《汉江怪物》所以我还以为也是部大制作大场...         0        None   \n9998                                              ?????         0        None   \n9999                                         这是我的新餐具???       222      今日的彩虹屁   \n\n                                           introduction  praise_count  \\\n0                                                  None             0   \n1     情绪没有正当、合理之说，它只是一种真实存在的体验，不管是正性情绪还是负性情绪都像是饥饿、口渴...             0   \n2     俗话说家家有本难念的经，托尔斯泰曾说过「幸福的家庭都是相同的，不幸的家庭各有各的不幸」，你家...             0   \n3                                                  None             0   \n4     “人是无处可逃的，每一天都是普通的一天。”仪式感却可以为这普通的一天赋予全新的意义，当无数个...             3   \n...                                                 ...           ...   \n9995                                               None             1   \n9996                                               None             0   \n9997                                               None             1   \n9998                                               None             0   \n9999                       每个人/每件事都可以获得别人的赞美，赞美是我们的能量源~             3   \n\n      reply_count  forward_count  topic_praise_count  topic_reply_count  \\\n0              26              0                5112              30551   \n1              15              0                 685               5337   \n2              15              0                 292               1827   \n3              40              0                5112              30551   \n4               8              0                1957               6590   \n...           ...            ...                 ...                ...   \n9995            6              0                5112              30551   \n9996            0              0                5112              30551   \n9997            0              0                5112              30551   \n9998            0              0                5112              30551   \n9999           10              0                 179                862   \n\n      topic_forward_count    rep  \n0                       0   True  \n1                       0   True  \n2                       0   True  \n3                       0   True  \n4                       0   True  \n...                   ...    ...  \n9995                    0   True  \n9996                    0   True  \n9997                    0   True  \n9998                    0  False  \n9999                    0  False  \n\n[10000 rows x 13 columns]",
      "text/html": "<div>\n<style scoped>\n    .dataframe tbody tr th:only-of-type {\n        vertical-align: middle;\n    }\n\n    .dataframe tbody tr th {\n        vertical-align: top;\n    }\n\n    .dataframe thead th {\n        text-align: right;\n    }\n</style>\n<table border=\"1\" class=\"dataframe\">\n  <thead>\n    <tr style=\"text-align: right;\">\n      <th></th>\n      <th>content_id</th>\n      <th>content_title</th>\n      <th>desc</th>\n      <th>topic_id</th>\n      <th>topic_title</th>\n      <th>introduction</th>\n      <th>praise_count</th>\n      <th>reply_count</th>\n      <th>forward_count</th>\n      <th>topic_praise_count</th>\n      <th>topic_reply_count</th>\n      <th>topic_forward_count</th>\n      <th>rep</th>\n    </tr>\n  </thead>\n  <tbody>\n    <tr>\n      <th>0</th>\n      <td>1</td>\n      <td>有什么可以应对焦虑的方法？</td>\n      <td>有什么可以应对焦虑的方法？</td>\n      <td>0</td>\n      <td>None</td>\n      <td>None</td>\n      <td>0</td>\n      <td>26</td>\n      <td>0</td>\n      <td>5112</td>\n      <td>30551</td>\n      <td>0</td>\n      <td>True</td>\n    </tr>\n    <tr>\n      <th>1</th>\n      <td>2</td>\n      <td>我们该如何处理自己的负能量？</td>\n      <td>自己想倾诉的时候，很害怕自己的负能量会影响身边亲近的人，那么我们该如何处理自己的负能量？</td>\n      <td>240</td>\n      <td>情绪树洞</td>\n      <td>情绪没有正当、合理之说，它只是一种真实存在的体验，不管是正性情绪还是负性情绪都像是饥饿、口渴...</td>\n      <td>0</td>\n      <td>15</td>\n      <td>0</td>\n      <td>685</td>\n      <td>5337</td>\n      <td>0</td>\n      <td>True</td>\n    </tr>\n    <tr>\n      <th>2</th>\n      <td>3</td>\n      <td>如何引导父母缓解他们的焦虑？</td>\n      <td>当父母逐渐老去，出现由更年期引发的一系列焦虑心态而不自知时，身为子女可以提供什么样的帮助？或...</td>\n      <td>242</td>\n      <td>你家那本难念的经</td>\n      <td>俗话说家家有本难念的经，托尔斯泰曾说过「幸福的家庭都是相同的，不幸的家庭各有各的不幸」，你家...</td>\n      <td>0</td>\n      <td>15</td>\n      <td>0</td>\n      <td>292</td>\n      <td>1827</td>\n      <td>0</td>\n      <td>True</td>\n    </tr>\n    <tr>\n      <th>3</th>\n      <td>4</td>\n      <td>上海的有吗</td>\n      <td>rt</td>\n      <td>0</td>\n      <td>None</td>\n      <td>None</td>\n      <td>0</td>\n      <td>40</td>\n      <td>0</td>\n      <td>5112</td>\n      <td>30551</td>\n      <td>0</td>\n      <td>True</td>\n    </tr>\n    <tr>\n      <th>4</th>\n      <td>5</td>\n      <td>一起加班的时间也可以是开心的鸭</td>\n      <td>并肩作战的小伙伴们，加油呀！</td>\n      <td>190</td>\n      <td>记录美好生活的仪式感</td>\n      <td>“人是无处可逃的，每一天都是普通的一天。”仪式感却可以为这普通的一天赋予全新的意义，当无数个...</td>\n      <td>3</td>\n      <td>8</td>\n      <td>0</td>\n      <td>1957</td>\n      <td>6590</td>\n      <td>0</td>\n      <td>True</td>\n    </tr>\n    <tr>\n      <th>...</th>\n      <td>...</td>\n      <td>...</td>\n      <td>...</td>\n      <td>...</td>\n      <td>...</td>\n      <td>...</td>\n      <td>...</td>\n      <td>...</td>\n      <td>...</td>\n      <td>...</td>\n      <td>...</td>\n      <td>...</td>\n      <td>...</td>\n    </tr>\n    <tr>\n      <th>9995</th>\n      <td>9996</td>\n      <td>吃晚饭再返工~</td>\n      <td>好风景多的是/夕阳平常事/然而每天眼见的/永远不相似</td>\n      <td>0</td>\n      <td>None</td>\n      <td>None</td>\n      <td>1</td>\n      <td>6</td>\n      <td>0</td>\n      <td>5112</td>\n      <td>30551</td>\n      <td>0</td>\n      <td>True</td>\n    </tr>\n    <tr>\n      <th>9996</th>\n      <td>9997</td>\n      <td>怎么才能建立强大的内心</td>\n      <td>能够遇到难过的事情不那么难过，依然保持对生活的热情，依然积极向上，一切向前看？有一起打卡一起...</td>\n      <td>0</td>\n      <td>None</td>\n      <td>None</td>\n      <td>0</td>\n      <td>0</td>\n      <td>0</td>\n      <td>5112</td>\n      <td>30551</td>\n      <td>0</td>\n      <td>True</td>\n    </tr>\n    <tr>\n      <th>9997</th>\n      <td>9998</td>\n      <td>电影《寄生虫》</td>\n      <td>是部很棒的电影。只是因为知道导演之前拍过《雪国列车》《汉江怪物》所以我还以为也是部大制作大场...</td>\n      <td>0</td>\n      <td>None</td>\n      <td>None</td>\n      <td>1</td>\n      <td>0</td>\n      <td>0</td>\n      <td>5112</td>\n      <td>30551</td>\n      <td>0</td>\n      <td>True</td>\n    </tr>\n    <tr>\n      <th>9998</th>\n      <td>9999</td>\n      <td>?????</td>\n      <td>?????</td>\n      <td>0</td>\n      <td>None</td>\n      <td>None</td>\n      <td>0</td>\n      <td>0</td>\n      <td>0</td>\n      <td>5112</td>\n      <td>30551</td>\n      <td>0</td>\n      <td>False</td>\n    </tr>\n    <tr>\n      <th>9999</th>\n      <td>10000</td>\n      <td>None</td>\n      <td>这是我的新餐具???</td>\n      <td>222</td>\n      <td>今日的彩虹屁</td>\n      <td>每个人/每件事都可以获得别人的赞美，赞美是我们的能量源~</td>\n      <td>3</td>\n      <td>10</td>\n      <td>0</td>\n      <td>179</td>\n      <td>862</td>\n      <td>0</td>\n      <td>False</td>\n    </tr>\n  </tbody>\n</table>\n<p>10000 rows × 13 columns</p>\n</div>"
     },
     "execution_count": 11,
     "metadata": {},
     "output_type": "execute_result"
    }
   ],
   "source": [
    "df"
   ],
   "metadata": {
    "collapsed": false,
    "pycharm": {
     "name": "#%%\n"
    }
   }
  },
  {
   "cell_type": "code",
   "execution_count": null,
   "outputs": [],
   "source": [
    "\n",
    "user_act = pd.read_csv('../data/user_action.csv', sep=',', error_bad_lines=False, encoding='utf-8', header=0)\n",
    "df3 = user_act.drop(labels=['id',\n",
    "                            'device_id', 'os', 'os_version', 'version', 'system', 'platform', 'pg_short_url',\n",
    "                            'log_time', 'cal_dt', 'duration', 'log_id'], axis=1)\n",
    "df3.loc[((df3.event_id == 254) | (df3.event_id == 248)), 'follow'] = 'thumb'\n",
    "df3.loc[((df3.event_id == 257) | (df3.event_id == 249)), 'follow'] = 'comment'\n",
    "df3.loc[((df3.event_id == 258) | (df3.event_id == 256)), 'follow'] = 'forward'\n",
    "df3.loc[((df3.event_id == 262) | (df3.event_id == 263)), 'follow'] = 'detail'\n",
    "df3.loc[((df3.event_id == 264) | (df3.event_id == 310)), 'follow'] = 'detail'\n",
    "\n",
    "df3['follow'] = df3['follow'].fillna(0)\n",
    "\n",
    "# user_new['follow'] = user_new['follow'].fillna(0)\n",
    "df3['follow'] = df3['follow'].replace(0, 'neg')\n",
    "df3['follow'].value_counts()\n",
    "import json\n",
    "\n",
    "# df3['content_id'] = df3.loc[(df3.event_id != 221), 'event_data']\n",
    "\n",
    "df3['event_data'] = df3['event_data'].apply(json.loads)\n",
    "\n",
    "\n",
    "def process(event_data):\n",
    "    if not isinstance(event_data, dict):\n",
    "        # print('list')\n",
    "        return 0\n",
    "    if 'content_id' in event_data.keys():\n",
    "        return event_data['content_id']\n",
    "\n",
    "\n",
    "df3['event_data'] = df3['event_data'].apply(process)\n",
    "# df3.head(10)\n",
    "df3['event_data'] = pd.to_numeric(df3['event_data']).fillna('0').astype('int64')\n",
    "df3['event_data'].value_counts()\n",
    "df3['content_id'] = df3['event_data']\n",
    "df3 = df3.sort_values(by=['user_id', 'created_at'], ascending=True)\n",
    "\n",
    "from functools import reduce\n",
    "\n",
    "df4 = df3[df3['follow'] != 'neg']\n",
    "df4['inter_list'] = pd.NA\n",
    "# inter_dup = df4.duplicated(subset=['content_id'], keep=False)\n",
    "# df4['rep'] = inter_dup\n",
    "# count = 0\n",
    "# print(len(df4))\n",
    "\n",
    "\n",
    "def count_inter_list(content_id):\n",
    "    inter = list(df4.loc[(df4.content_id == content_id), 'user_id'])\n",
    "    func = lambda x, y: x if y in x else x + [y]\n",
    "    list1 = reduce(func, [[], ] + inter)\n",
    "    inter_list = map(lambda x: str(x), list1)\n",
    "    str1 = \",\".join(list(inter_list))\n",
    "    return str1\n",
    "\n",
    "\n",
    "df4.apply(lambda row: count_inter_list(row['user_id']), axis=1)\n",
    "df4['inter_list'] = count_inter_list(df4['user_id'].values, df4['content_id'].values)\n",
    "# todo: speed up\n",
    "# for index, row in (df4.iterrows()):\n",
    "#     inter_list = set()\n",
    "#     count += 1\n",
    "#     if count % 1000 == 0:\n",
    "#         print(f\"--------process {count} rows----------\")\n",
    "#     if row['rep'] is True:\n",
    "#         # user_id = row['user_id']\n",
    "#         content_id = row['content_id']\n",
    "#         inter = list(df4.loc[(df4.content_id == content_id), 'user_id'])\n",
    "#         func = lambda x, y: x if y in x else x + [y]\n",
    "#         list1 = reduce(func, [[], ] + inter)\n",
    "#         inter_list = map(lambda x: str(x), list1)\n",
    "#         str1 = \",\".join(list(inter_list))\n",
    "#         # print(str1)\n",
    "#         df4.loc[(df4.content_id == content_id), 'inter_list'] = str1\n",
    "#     else:\n",
    "#         user_id = row['user_id']\n",
    "#         content_id = row['content_id']\n",
    "#         df4.loc[(df4.content_id == content_id), 'inter_list'] = str(user_id)\n",
    "\n",
    "\n",
    "\n",
    "df4 = df4.drop(labels=['event_id', 'event_data', 'follow', 'user_id', 'rep', 'created_at'], axis=1)\n",
    "df = df.drop(labels=['rep'], axis=1)\n",
    "\n",
    "df4.to_csv('../data/inter_list.txt', sep='\\t', encoding='utf-8', index=False)\n",
    "df.to_csv('../data/content_raw.txt', sep='\\t', encoding='utf-8', index=False)\n",
    "\n",
    "# df6 = pd.merge(df, df4, on='content_id', how='left')\n",
    "\n",
    "\n",
    "df_filter = df4[df4['content_id'] != 0]\n",
    "\n",
    "df7 = pd.merge(df, df_filter, on='content_id', how='left')\n",
    "\n",
    "df8 = df7.drop_duplicates(subset=['content_id'], keep='first')\n",
    "\n",
    "df8.to_csv('../data/content.txt', sep='\\t', encoding='utf-8', index=False)\n"
   ],
   "metadata": {
    "collapsed": false,
    "pycharm": {
     "name": "#%%\n"
    }
   }
  }
 ],
 "metadata": {
  "kernelspec": {
   "display_name": "Python 3",
   "language": "python",
   "name": "python3"
  },
  "language_info": {
   "codemirror_mode": {
    "name": "ipython",
    "version": 2
   },
   "file_extension": ".py",
   "mimetype": "text/x-python",
   "name": "python",
   "nbconvert_exporter": "python",
   "pygments_lexer": "ipython2",
   "version": "2.7.6"
  }
 },
 "nbformat": 4,
 "nbformat_minor": 0
}